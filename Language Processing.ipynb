{
 "cells": [
  {
   "cell_type": "code",
   "execution_count": 1,
   "metadata": {
    "collapsed": true
   },
   "outputs": [],
   "source": [
    "text = \"This is my test text.\""
   ]
  },
  {
   "cell_type": "code",
   "execution_count": 2,
   "metadata": {
    "collapsed": true
   },
   "outputs": [],
   "source": [
    "def count_words(text):\n",
    "    \"\"\"\n",
    "    Count the number of times each word occurs in text (str). Return \n",
    "    dictionary where keys are unique words and values are word counts.\n",
    "    Skip ponctuations\n",
    "    \"\"\"\n",
    "    text = text.lower()\n",
    "    # escaping the ponctuation marks\n",
    "    skips = [\".\",\",\",\"!\",\":\",'\"',\"'\"]\n",
    "    \n",
    "    for skip in skips:\n",
    "        text = text.replace(skip, \"\")\n",
    "    \n",
    "    word_counts = {}\n",
    "    #text.split()\n",
    "    for word in text.split(\" \"):\n",
    "        # Known word\n",
    "        if word in word_counts:\n",
    "            word_counts[word] += 1\n",
    "        else:\n",
    "            word_counts[word] = 1\n",
    "        \n",
    "    return word_counts\n",
    "        "
   ]
  },
  {
   "cell_type": "code",
   "execution_count": 3,
   "metadata": {
    "collapsed": false
   },
   "outputs": [
    {
     "data": {
      "text/plain": [
       "{'is': 1, 'my': 1, 'test': 1, 'text': 1, 'this': 1}"
      ]
     },
     "execution_count": 3,
     "metadata": {},
     "output_type": "execute_result"
    }
   ],
   "source": [
    "count_words(text)"
   ]
  },
  {
   "cell_type": "markdown",
   "metadata": {},
   "source": [
    "## Using the counter python Object"
   ]
  },
  {
   "cell_type": "code",
   "execution_count": 2,
   "metadata": {
    "collapsed": false
   },
   "outputs": [],
   "source": [
    "from collections import Counter\n",
    "\n",
    "def count_words_fast(text):\n",
    "    \"\"\"\n",
    "    Count the number of times each word occurs in text (str). Return \n",
    "    dictionary where keys are unique words and values are word counts.\n",
    "    Skip ponctuations\n",
    "    \"\"\"\n",
    "    text = text.lower()\n",
    "    # escaping the ponctuation marks\n",
    "    skips = [\".\",\",\",\"!\",\":\",'\"',\"'\"]\n",
    "    \n",
    "    for skip in skips:\n",
    "        text = text.replace(skip, \"\")\n",
    "    \n",
    "    word_counts = Counter(text.split(\" \"))\n",
    "    \n",
    "        \n",
    "    return word_counts\n",
    "        "
   ]
  },
  {
   "cell_type": "code",
   "execution_count": 5,
   "metadata": {
    "collapsed": false
   },
   "outputs": [
    {
     "data": {
      "text/plain": [
       "Counter({'is': 1, 'my': 1, 'test': 1, 'text': 1, 'this': 1})"
      ]
     },
     "execution_count": 5,
     "metadata": {},
     "output_type": "execute_result"
    }
   ],
   "source": [
    "count_words_fast(text)"
   ]
  },
  {
   "cell_type": "code",
   "execution_count": 6,
   "metadata": {
    "collapsed": false
   },
   "outputs": [
    {
     "data": {
      "text/plain": [
       "True"
      ]
     },
     "execution_count": 6,
     "metadata": {},
     "output_type": "execute_result"
    }
   ],
   "source": [
    "count_words(text) == count_words_fast(text)"
   ]
  },
  {
   "cell_type": "markdown",
   "metadata": {},
   "source": [
    "## Reading books"
   ]
  },
  {
   "cell_type": "code",
   "execution_count": 7,
   "metadata": {
    "collapsed": false
   },
   "outputs": [],
   "source": [
    "def read_book(title_path):\n",
    "    \"\"\"\n",
    "    Read a book and return it as a string\n",
    "    \"\"\"\n",
    "    \n",
    "    with open(title_path, \"r\") as current_file:\n",
    "        text = current_file.read()\n",
    "        text = text.replace(\"\\n\",\"\").replace(\"\\r\",\"\")\n",
    "    return text"
   ]
  },
  {
   "cell_type": "code",
   "execution_count": 8,
   "metadata": {
    "collapsed": false
   },
   "outputs": [
    {
     "ename": "IOError",
     "evalue": "[Errno 2] No such file or directory: 'MyBook.txt'",
     "output_type": "error",
     "traceback": [
      "\u001b[0;31m---------------------------------------------------------------------------\u001b[0m",
      "\u001b[0;31mIOError\u001b[0m                                   Traceback (most recent call last)",
      "\u001b[0;32m<ipython-input-8-d55bd5d5e4b8>\u001b[0m in \u001b[0;36m<module>\u001b[0;34m()\u001b[0m\n\u001b[0;32m----> 1\u001b[0;31m \u001b[0mtext\u001b[0m \u001b[0;34m=\u001b[0m \u001b[0mread_book\u001b[0m\u001b[0;34m(\u001b[0m\u001b[0;34m\"MyBook.txt\"\u001b[0m\u001b[0;34m)\u001b[0m\u001b[0;34m\u001b[0m\u001b[0m\n\u001b[0m",
      "\u001b[0;32m<ipython-input-7-7129bd81b57f>\u001b[0m in \u001b[0;36mread_book\u001b[0;34m(title_path)\u001b[0m\n\u001b[1;32m      4\u001b[0m     \"\"\"\n\u001b[1;32m      5\u001b[0m \u001b[0;34m\u001b[0m\u001b[0m\n\u001b[0;32m----> 6\u001b[0;31m     \u001b[0;32mwith\u001b[0m \u001b[0mopen\u001b[0m\u001b[0;34m(\u001b[0m\u001b[0mtitle_path\u001b[0m\u001b[0;34m,\u001b[0m \u001b[0;34m\"r\"\u001b[0m\u001b[0;34m)\u001b[0m \u001b[0;32mas\u001b[0m \u001b[0mcurrent_file\u001b[0m\u001b[0;34m:\u001b[0m\u001b[0;34m\u001b[0m\u001b[0m\n\u001b[0m\u001b[1;32m      7\u001b[0m         \u001b[0mtext\u001b[0m \u001b[0;34m=\u001b[0m \u001b[0mcurrent_file\u001b[0m\u001b[0;34m.\u001b[0m\u001b[0mread\u001b[0m\u001b[0;34m(\u001b[0m\u001b[0;34m)\u001b[0m\u001b[0;34m\u001b[0m\u001b[0m\n\u001b[1;32m      8\u001b[0m         \u001b[0mtext\u001b[0m \u001b[0;34m=\u001b[0m \u001b[0mtext\u001b[0m\u001b[0;34m.\u001b[0m\u001b[0mreplace\u001b[0m\u001b[0;34m(\u001b[0m\u001b[0;34m\"\\n\"\u001b[0m\u001b[0;34m,\u001b[0m\u001b[0;34m\"\"\u001b[0m\u001b[0;34m)\u001b[0m\u001b[0;34m.\u001b[0m\u001b[0mreplace\u001b[0m\u001b[0;34m(\u001b[0m\u001b[0;34m\"\\r\"\u001b[0m\u001b[0;34m,\u001b[0m\u001b[0;34m\"\"\u001b[0m\u001b[0;34m)\u001b[0m\u001b[0;34m\u001b[0m\u001b[0m\n",
      "\u001b[0;31mIOError\u001b[0m: [Errno 2] No such file or directory: 'MyBook.txt'"
     ]
    }
   ],
   "source": [
    "text = read_book(\"MyBook.txt\")"
   ]
  },
  {
   "cell_type": "code",
   "execution_count": null,
   "metadata": {
    "collapsed": false
   },
   "outputs": [],
   "source": [
    "text"
   ]
  },
  {
   "cell_type": "code",
   "execution_count": null,
   "metadata": {
    "collapsed": false
   },
   "outputs": [],
   "source": [
    "len(text)"
   ]
  },
  {
   "cell_type": "code",
   "execution_count": null,
   "metadata": {
    "collapsed": false
   },
   "outputs": [],
   "source": [
    "count_words_fast(text)"
   ]
  },
  {
   "cell_type": "code",
   "execution_count": null,
   "metadata": {
    "collapsed": false
   },
   "outputs": [],
   "source": [
    "ind = text.find(\"a\")"
   ]
  },
  {
   "cell_type": "code",
   "execution_count": null,
   "metadata": {
    "collapsed": true
   },
   "outputs": [],
   "source": [
    "sample_text = text[ind : ind + 100]"
   ]
  },
  {
   "cell_type": "code",
   "execution_count": null,
   "metadata": {
    "collapsed": false
   },
   "outputs": [],
   "source": [
    "sample_text"
   ]
  },
  {
   "cell_type": "markdown",
   "metadata": {},
   "source": [
    "## Words statistics "
   ]
  },
  {
   "cell_type": "code",
   "execution_count": 9,
   "metadata": {
    "collapsed": true
   },
   "outputs": [],
   "source": [
    "def word_stats(word_counts):\n",
    "    \"\"\"\n",
    "    Return number of unique words and word frequencies\n",
    "    \"\"\"\n",
    "    num_unique = len(word_counts)\n",
    "    counts = word_counts.values()\n",
    "    return (num_unique,counts)"
   ]
  },
  {
   "cell_type": "code",
   "execution_count": 10,
   "metadata": {
    "collapsed": false
   },
   "outputs": [],
   "source": [
    "(unique, freq) = word_stats(count_words_fast(text))"
   ]
  },
  {
   "cell_type": "code",
   "execution_count": 11,
   "metadata": {
    "collapsed": false
   },
   "outputs": [
    {
     "data": {
      "text/plain": [
       "5"
      ]
     },
     "execution_count": 11,
     "metadata": {},
     "output_type": "execute_result"
    }
   ],
   "source": [
    "sum(freq)"
   ]
  },
  {
   "cell_type": "markdown",
   "metadata": {},
   "source": [
    "## Reading multiple files"
   ]
  },
  {
   "cell_type": "code",
   "execution_count": 12,
   "metadata": {
    "collapsed": false
   },
   "outputs": [
    {
     "data": {
      "text/plain": [
       "['Portuguese', 'English', 'German', 'French']"
      ]
     },
     "execution_count": 12,
     "metadata": {},
     "output_type": "execute_result"
    }
   ],
   "source": [
    "import os \n",
    "book_dir = \"./Books\"\n",
    "os.listdir(book_dir)"
   ]
  },
  {
   "cell_type": "code",
   "execution_count": null,
   "metadata": {
    "collapsed": false
   },
   "outputs": [],
   "source": []
  },
  {
   "cell_type": "code",
   "execution_count": 13,
   "metadata": {
    "collapsed": true
   },
   "outputs": [],
   "source": [
    "import pandas as pd\n",
    "\n",
    "\n",
    "table = pd.DataFrame(columns=[\"name\",\"age\"])\n",
    "\n",
    "table.loc[1] = \"James\", 22\n",
    "\n",
    "table.loc[2] = \"Jess\", 32"
   ]
  },
  {
   "cell_type": "code",
   "execution_count": 14,
   "metadata": {
    "collapsed": false
   },
   "outputs": [
    {
     "data": {
      "text/html": [
       "<div>\n",
       "<table border=\"1\" class=\"dataframe\">\n",
       "  <thead>\n",
       "    <tr style=\"text-align: right;\">\n",
       "      <th></th>\n",
       "      <th>name</th>\n",
       "      <th>age</th>\n",
       "    </tr>\n",
       "  </thead>\n",
       "  <tbody>\n",
       "    <tr>\n",
       "      <th>1</th>\n",
       "      <td>James</td>\n",
       "      <td>22.0</td>\n",
       "    </tr>\n",
       "    <tr>\n",
       "      <th>2</th>\n",
       "      <td>Jess</td>\n",
       "      <td>32.0</td>\n",
       "    </tr>\n",
       "  </tbody>\n",
       "</table>\n",
       "</div>"
      ],
      "text/plain": [
       "    name   age\n",
       "1  James  22.0\n",
       "2   Jess  32.0"
      ]
     },
     "execution_count": 14,
     "metadata": {},
     "output_type": "execute_result"
    }
   ],
   "source": [
    "table"
   ]
  },
  {
   "cell_type": "code",
   "execution_count": 15,
   "metadata": {
    "collapsed": true
   },
   "outputs": [],
   "source": [
    "def read_multiple_files():\n",
    "    stats = pd.DataFrame(columns=['language',\"author\",\"title\",\"length\",\"unique\"])\n",
    "    title_num = 1\n",
    "    for language in os.listdir(book_dir):\n",
    "        for author in os.listdir(book_dir+\"/\"+language):\n",
    "            for title in os.listdir(book_dir+\"/\"+language+\"/\"+author):\n",
    "                inputfile = book_dir+\"/\"+language+\"/\"+author+\"/\"+title\n",
    "                print(inputfile)\n",
    "                text = read_book(inputfile)\n",
    "                (num_unique, counts) = word_stats(count_words(text))\n",
    "                ###\n",
    "                ### PANDAS INSERTION ! dframe.loc[i]\n",
    "                ###\n",
    "                stats.loc[title_num] = language, author.capitalize(), title.replace(\"txt\",''), sum(counts), num_unique\n",
    "                title_num += 1\n",
    "    return stats"
   ]
  },
  {
   "cell_type": "code",
   "execution_count": 16,
   "metadata": {
    "collapsed": false,
    "scrolled": true
   },
   "outputs": [
    {
     "name": "stdout",
     "output_type": "stream",
     "text": [
      "./Books/Portuguese/branco/Agulha em Palheiro.txt\n",
      "./Books/Portuguese/branco/Livro de Consolação.txt\n",
      "./Books/Portuguese/branco/Amor de Salvação.txt\n",
      "./Books/Portuguese/branco/O Regicida.txt\n",
      "./Books/Portuguese/branco/A Filha do Arcediago.txt\n",
      "./Books/Portuguese/branco/Estrellas Prop°cias.txt\n",
      "./Books/Portuguese/branco/O Olho de Vidro.txt\n",
      "./Books/Portuguese/branco/Lagrimas Abenáoadas.txt\n",
      "./Books/Portuguese/branco/Carlota Angela.txt\n",
      "./Books/Portuguese/branco/A Neta do Arcediago.txt\n",
      "./Books/Portuguese/branco/O que fazem mulheres.txt\n",
      "./Books/Portuguese/branco/Amor de Perdição.txt\n",
      "./Books/Portuguese/branco/Scenas Contemporaneas.txt\n",
      "./Books/Portuguese/branco/Estrellas Funestas.txt\n",
      "./Books/Portuguese/branco/Annos de Prosa.txt\n",
      "./Books/Portuguese/branco/A Queda d'um Anjo.txt\n",
      "./Books/Portuguese/shakespeare/Hamlet.txt\n",
      "./Books/Portuguese/Queir¢s/A Illustre Casa de Ramires.txt\n",
      "./Books/Portuguese/Queir¢s/O Mandarim.txt\n",
      "./Books/Portuguese/Queir¢s/Os Maias.txt\n",
      "./Books/Portuguese/Queir¢s/A Rel°quia.txt\n",
      "./Books/Portuguese/Queir¢s/O crime do padre Amaro.txt\n",
      "./Books/Portuguese/Queir¢s/A Cidade e as Serras.txt\n",
      "./Books/Portuguese/Queir¢s/A correspondància de Fradique Mendes.txt\n",
      "./Books/Portuguese/Queir¢s/O Primo Bazilio.txt\n",
      "./Books/Portuguese/Queir¢s/Cartas de Inglaterra.txt\n",
      "./Books/Portuguese/dinis/Os fidalgos da Casa Mourisca.txt\n",
      "./Books/Portuguese/dinis/Uma fam°lia ingleza.txt\n",
      "./Books/Portuguese/dinis/A Morgadinha dos Cannaviaes.txt\n",
      "./Books/English/shakespeare/The Merchant of Venice.txt\n",
      "./Books/English/shakespeare/Hamlet.txt\n",
      "./Books/English/shakespeare/Macbeth.txt\n",
      "./Books/English/shakespeare/Romeo and Juliet.txt\n",
      "./Books/English/shakespeare/A Midsummer Night's Dream.txt\n",
      "./Books/English/shakespeare/Richard III.txt\n",
      "./Books/English/shakespeare/Othello.txt\n",
      "./Books/German/raimund/Der Barometermacher auf der Zauberinsel.txt\n",
      "./Books/German/raimund/Der Diamant des Geisterkînigs.txt\n",
      "./Books/German/raimund/Die gefesselte Phantasie.txt\n",
      "./Books/German/raimund/Der Verschwender.txt\n",
      "./Books/German/raimund/Das MÑdchen aus der Feenwelt.txt\n",
      "./Books/German/raimund/Der Alpenkînig und der Menschenfeind.txt\n",
      "./Books/German/raimund/Moisasurs Zauberfluch.txt\n",
      "./Books/German/raimund/Die unheilbringende Krone.txt\n",
      "./Books/German/schiller/Die Piccolomini.txt\n",
      "./Books/German/schiller/Wallensteins Tod.txt\n",
      "./Books/German/schiller/Turandot, Prinzessin von China.txt\n",
      "./Books/German/schiller/Der Neffe als Onkel.txt\n",
      "./Books/German/schiller/Der Parasit, oder die Kunst, sein GlÅck zu machen.txt\n",
      "./Books/German/schiller/die braut von messina.txt\n",
      "./Books/German/schiller/Kabale und Liebe.txt\n",
      "./Books/German/schiller/Die Huldigung der KÅnste.txt\n",
      "./Books/German/schiller/Die Jungfrau von Orleans.txt\n",
      "./Books/German/schiller/Die Verschwîrung des Fiesco zu Genua.txt\n",
      "./Books/German/schiller/Wallensteins Lager.txt\n",
      "./Books/German/shakespeare/Hamlet.txt\n",
      "./Books/German/shakespeare/Macbeth.txt\n",
      "./Books/German/shakespeare/Ein Sommernachtstraum.txt\n",
      "./Books/German/shakespeare/Romeo und Julia.txt\n",
      "./Books/German/shakespeare/Der Kaufmann von Venedig.txt\n",
      "./Books/German/shakespeare/Richard III.txt\n",
      "./Books/German/shakespeare/Othello.txt\n",
      "./Books/German/lessing/philotas.txt\n",
      "./Books/German/lessing/emilia galotti.txt\n",
      "./Books/German/lessing/hamburgische dramaturgie.txt\n",
      "./Books/German/lessing/der junge gelehrte.txt\n",
      "./Books/German/lessing/miss sara sampson.txt\n",
      "./Books/German/lessing/der freigeist.txt\n",
      "./Books/German/lessing/minna von barnhelm.txt\n",
      "./Books/German/lessing/die juden.txt\n",
      "./Books/French/sand/Le Piccinino.txt\n",
      "./Books/French/sand/Le poâme de Myrza.txt\n",
      "./Books/French/sand/Metella.txt\n",
      "./Books/French/sand/Mattea.txt\n",
      "./Books/French/sand/Oeuvres illustrÇes de George Sand.txt\n",
      "./Books/French/sand/Jacques le fataliste et son maåtre.txt\n",
      "./Books/French/sand/cora.txt\n",
      "./Books/French/sand/Pauline.txt\n",
      "./Books/French/sand/L' Orco.txt\n",
      "./Books/French/sand/La Marquise.txt\n",
      "./Books/French/sand/La Coupe; Lupo Liverani; Le Toast; Garnier; Le Contrebandier; La Ràverie Ö Paris.txt\n",
      "./Books/French/chevalier/Le chasseur noir.txt\n",
      "./Books/French/chevalier/Les derniers Iroquois.txt\n",
      "./Books/French/chevalier/L'åle de sable.txt\n",
      "./Books/French/chevalier/La capitaine.txt\n",
      "./Books/French/chevalier/La fille des indiens rouges.txt\n",
      "./Books/French/chevalier/La fille du pirate.txt\n",
      "./Books/French/chevalier/L'enfer et le paradis de l'autre monde.txt\n",
      "./Books/French/de Maupassant/Contes de la Becasse.txt\n",
      "./Books/French/de Maupassant/La Maison Tellier.txt\n",
      "./Books/French/de Maupassant/Œuvres complètes de Guy de Maupassant.txt\n",
      "./Books/French/de Maupassant/Le Horla.txt\n",
      "./Books/French/de Maupassant/Claire de Lune.txt\n",
      "./Books/French/de Maupassant/Boule de Suif.txt\n",
      "./Books/French/de Maupassant/L'inutile beautÇ.txt\n",
      "./Books/French/de Maupassant/La petite roque.txt\n",
      "./Books/French/de Maupassant/La Main Gauche.txt\n",
      "./Books/French/diderot/Regrets sur ma vieille robe de chambre.txt\n",
      "./Books/French/diderot/Les deux amis de Bourbonne.txt\n",
      "./Books/French/diderot/L'oiseau blanc.txt\n",
      "./Books/French/diderot/Ceci n'est pas un conte.txt\n",
      "./Books/French/diderot/Entretien d'un päre avec ses enfants.txt\n"
     ]
    }
   ],
   "source": [
    "dframe = read_multiple_files()"
   ]
  },
  {
   "cell_type": "code",
   "execution_count": 17,
   "metadata": {
    "collapsed": false
   },
   "outputs": [
    {
     "data": {
      "text/html": [
       "<div>\n",
       "<table border=\"1\" class=\"dataframe\">\n",
       "  <thead>\n",
       "    <tr style=\"text-align: right;\">\n",
       "      <th></th>\n",
       "      <th>language</th>\n",
       "      <th>author</th>\n",
       "      <th>title</th>\n",
       "      <th>length</th>\n",
       "      <th>unique</th>\n",
       "    </tr>\n",
       "  </thead>\n",
       "  <tbody>\n",
       "    <tr>\n",
       "      <th>1</th>\n",
       "      <td>Portuguese</td>\n",
       "      <td>Branco</td>\n",
       "      <td>Agulha em Palheiro.</td>\n",
       "      <td>43575.0</td>\n",
       "      <td>12773.0</td>\n",
       "    </tr>\n",
       "    <tr>\n",
       "      <th>2</th>\n",
       "      <td>Portuguese</td>\n",
       "      <td>Branco</td>\n",
       "      <td>Livro de Consolação.</td>\n",
       "      <td>54151.0</td>\n",
       "      <td>15965.0</td>\n",
       "    </tr>\n",
       "    <tr>\n",
       "      <th>3</th>\n",
       "      <td>Portuguese</td>\n",
       "      <td>Branco</td>\n",
       "      <td>Amor de Salvação.</td>\n",
       "      <td>47739.0</td>\n",
       "      <td>14392.0</td>\n",
       "    </tr>\n",
       "    <tr>\n",
       "      <th>4</th>\n",
       "      <td>Portuguese</td>\n",
       "      <td>Branco</td>\n",
       "      <td>O Regicida.</td>\n",
       "      <td>50751.0</td>\n",
       "      <td>14909.0</td>\n",
       "    </tr>\n",
       "    <tr>\n",
       "      <th>5</th>\n",
       "      <td>Portuguese</td>\n",
       "      <td>Branco</td>\n",
       "      <td>A Filha do Arcediago.</td>\n",
       "      <td>74446.0</td>\n",
       "      <td>18154.0</td>\n",
       "    </tr>\n",
       "  </tbody>\n",
       "</table>\n",
       "</div>"
      ],
      "text/plain": [
       "     language  author                   title   length   unique\n",
       "1  Portuguese  Branco     Agulha em Palheiro.  43575.0  12773.0\n",
       "2  Portuguese  Branco  Livro de Consolação.  54151.0  15965.0\n",
       "3  Portuguese  Branco     Amor de Salvação.  47739.0  14392.0\n",
       "4  Portuguese  Branco             O Regicida.  50751.0  14909.0\n",
       "5  Portuguese  Branco   A Filha do Arcediago.  74446.0  18154.0"
      ]
     },
     "execution_count": 17,
     "metadata": {},
     "output_type": "execute_result"
    }
   ],
   "source": [
    "dframe.head()"
   ]
  },
  {
   "cell_type": "code",
   "execution_count": 19,
   "metadata": {
    "collapsed": false
   },
   "outputs": [
    {
     "data": {
      "text/plain": [
       "[<matplotlib.lines.Line2D at 0x7f889d957a50>]"
      ]
     },
     "execution_count": 19,
     "metadata": {},
     "output_type": "execute_result"
    },
    {
     "data": {
      "image/png": "[encoded data removed]",
      "text/plain": [
       "<matplotlib.figure.Figure at 0x7f889da54790>"
      ]
     },
     "metadata": {},
     "output_type": "display_data"
    }
   ],
   "source": [
    "import matplotlib.pyplot as plt\n",
    "%matplotlib inline\n",
    "\n",
    "plt.plot(dframe.length, dframe.unique,\"bo\")"
   ]
  },
  {
   "cell_type": "code",
   "execution_count": 20,
   "metadata": {
    "collapsed": false
   },
   "outputs": [
    {
     "data": {
      "text/plain": [
       "[<matplotlib.lines.Line2D at 0x7f889d8e32d0>]"
      ]
     },
     "execution_count": 20,
     "metadata": {},
     "output_type": "execute_result"
    },
    {
     "data": {
      "image/png": "[encoded data removed]",
      "text/plain": [
       "<matplotlib.figure.Figure at 0x7f88dc8a3190>"
      ]
     },
     "metadata": {},
     "output_type": "display_data"
    }
   ],
   "source": [
    "plt.loglog(dframe.length, dframe.unique,\"bo\")"
   ]
  },
  {
   "cell_type": "code",
   "execution_count": 21,
   "metadata": {
    "collapsed": false
   },
   "outputs": [
    {
     "data": {
      "text/html": [
       "<div>\n",
       "<table border=\"1\" class=\"dataframe\">\n",
       "  <thead>\n",
       "    <tr style=\"text-align: right;\">\n",
       "      <th></th>\n",
       "      <th>language</th>\n",
       "      <th>author</th>\n",
       "      <th>title</th>\n",
       "      <th>length</th>\n",
       "      <th>unique</th>\n",
       "    </tr>\n",
       "  </thead>\n",
       "  <tbody>\n",
       "    <tr>\n",
       "      <th>30</th>\n",
       "      <td>English</td>\n",
       "      <td>Shakespeare</td>\n",
       "      <td>The Merchant of Venice.</td>\n",
       "      <td>20949.0</td>\n",
       "      <td>4978.0</td>\n",
       "    </tr>\n",
       "    <tr>\n",
       "      <th>31</th>\n",
       "      <td>English</td>\n",
       "      <td>Shakespeare</td>\n",
       "      <td>Hamlet.</td>\n",
       "      <td>28551.0</td>\n",
       "      <td>6776.0</td>\n",
       "    </tr>\n",
       "    <tr>\n",
       "      <th>32</th>\n",
       "      <td>English</td>\n",
       "      <td>Shakespeare</td>\n",
       "      <td>Macbeth.</td>\n",
       "      <td>16874.0</td>\n",
       "      <td>4780.0</td>\n",
       "    </tr>\n",
       "    <tr>\n",
       "      <th>33</th>\n",
       "      <td>English</td>\n",
       "      <td>Shakespeare</td>\n",
       "      <td>Romeo and Juliet.</td>\n",
       "      <td>40776.0</td>\n",
       "      <td>5112.0</td>\n",
       "    </tr>\n",
       "    <tr>\n",
       "      <th>34</th>\n",
       "      <td>English</td>\n",
       "      <td>Shakespeare</td>\n",
       "      <td>A Midsummer Night's Dream.</td>\n",
       "      <td>16103.0</td>\n",
       "      <td>4345.0</td>\n",
       "    </tr>\n",
       "    <tr>\n",
       "      <th>35</th>\n",
       "      <td>English</td>\n",
       "      <td>Shakespeare</td>\n",
       "      <td>Richard III.</td>\n",
       "      <td>48315.0</td>\n",
       "      <td>5566.0</td>\n",
       "    </tr>\n",
       "    <tr>\n",
       "      <th>36</th>\n",
       "      <td>English</td>\n",
       "      <td>Shakespeare</td>\n",
       "      <td>Othello.</td>\n",
       "      <td>26590.0</td>\n",
       "      <td>5898.0</td>\n",
       "    </tr>\n",
       "  </tbody>\n",
       "</table>\n",
       "</div>"
      ],
      "text/plain": [
       "   language       author                       title   length  unique\n",
       "30  English  Shakespeare     The Merchant of Venice.  20949.0  4978.0\n",
       "31  English  Shakespeare                     Hamlet.  28551.0  6776.0\n",
       "32  English  Shakespeare                    Macbeth.  16874.0  4780.0\n",
       "33  English  Shakespeare           Romeo and Juliet.  40776.0  5112.0\n",
       "34  English  Shakespeare  A Midsummer Night's Dream.  16103.0  4345.0\n",
       "35  English  Shakespeare                Richard III.  48315.0  5566.0\n",
       "36  English  Shakespeare                    Othello.  26590.0  5898.0"
      ]
     },
     "execution_count": 21,
     "metadata": {},
     "output_type": "execute_result"
    }
   ],
   "source": [
    "dframe[dframe.language == \"English\"]"
   ]
  },
  {
   "cell_type": "code",
   "execution_count": 25,
   "metadata": {
    "collapsed": false
   },
   "outputs": [
    {
     "data": {
      "image/png": "[encoded data removed]",
      "text/plain": [
       "<matplotlib.figure.Figure at 0x7f889d3cf550>"
      ]
     },
     "metadata": {},
     "output_type": "display_data"
    }
   ],
   "source": [
    "plt.figure(figsize=(10,10))\n",
    "subset = dframe[dframe.language == \"English\"]\n",
    "plt.loglog(subset.length, subset.unique,'o', label='English', color='crimson')\n",
    "\n",
    "subset = dframe[dframe.language == \"French\"]\n",
    "plt.loglog(subset.length, subset.unique,'o', label='English', color='forestgreen')\n",
    "\n",
    "subset = dframe[dframe.language == \"German\"]\n",
    "plt.loglog(subset.length, subset.unique,'o', label='English', color='orange')\n",
    "\n",
    "subset = dframe[dframe.language == \"Portuguese\"]\n",
    "plt.loglog(subset.length, subset.unique,'o', label='English', color='blueviolet')\n",
    "\n",
    "plt.xlabel(\"Book length\")\n",
    "plt.ylabel(\"Number of unique words\")\n",
    "plt.savefig(\"lang_plot.pdf\")"
   ]
  },
  {
   "cell_type": "markdown",
   "metadata": {
    "collapsed": true
   },
   "source": [
    "# Exercice"
   ]
  },
  {
   "cell_type": "code",
   "execution_count": 21,
   "metadata": {
    "collapsed": true
   },
   "outputs": [],
   "source": [
    "text = \"This is my test text text.\"\n",
    "\n",
    "def word_count_distribution(text):\n",
    "    \"\"\"\n",
    "    Counting the distribution of words \n",
    "    \"\"\"\n",
    "    #text = read_book(book)\n",
    "    \n",
    "    word_counts = count_words_fast(text)\n",
    "    \n",
    "    freq_count = {}\n",
    "    \n",
    "    for key,value in word_counts.items():\n",
    "        if value in freq_count:\n",
    "            freq_count[value] += 1\n",
    "        else:\n",
    "            freq_count[value] = 1\n",
    "        \n",
    "    \n",
    "    \n",
    "    return freq_count"
   ]
  },
  {
   "cell_type": "code",
   "execution_count": 26,
   "metadata": {
    "collapsed": false
   },
   "outputs": [],
   "source": [
    "distribution = word_count_distribution(text)"
   ]
  },
  {
   "cell_type": "code",
   "execution_count": 27,
   "metadata": {
    "collapsed": false
   },
   "outputs": [
    {
     "data": {
      "text/plain": [
       "{1: 4, 2: 1}"
      ]
     },
     "execution_count": 27,
     "metadata": {},
     "output_type": "execute_result"
    }
   ],
   "source": [
    "distribution"
   ]
  },
  {
   "cell_type": "code",
   "execution_count": 59,
   "metadata": {
    "collapsed": true
   },
   "outputs": [],
   "source": [
    "distribution = {1: 3029,\n",
    "         2: 718,\n",
    "         3: 297,\n",
    "         4: 173,\n",
    "         5: 128,\n",
    "         6: 77,\n",
    "         7: 58,\n",
    "         8: 40,\n",
    "         9: 47,\n",
    "         10: 26,\n",
    "         11: 32,\n",
    "         12: 21,\n",
    "         13: 16,\n",
    "         14: 17,\n",
    "         15: 14,\n",
    "         16: 22,\n",
    "         17: 9,\n",
    "         18: 7,\n",
    "         19: 7,\n",
    "         20: 5,\n",
    "         21: 12,\n",
    "         22: 14,\n",
    "         23: 5,\n",
    "         24: 6,\n",
    "         25: 5,\n",
    "         26: 2,\n",
    "         27: 3,\n",
    "         28: 4,\n",
    "         29: 4,\n",
    "         30: 3,\n",
    "         31: 1,\n",
    "         32: 2,\n",
    "         33: 2,\n",
    "         34: 3,\n",
    "         35: 1,\n",
    "         36: 3,\n",
    "         37: 2,\n",
    "         38: 2,\n",
    "         40: 2,\n",
    "         42: 3,\n",
    "         43: 4,\n",
    "         44: 4,\n",
    "         45: 2,\n",
    "         46: 3,\n",
    "         47: 1,\n",
    "         49: 2,\n",
    "         50: 3,\n",
    "         51: 4,\n",
    "         53: 4,\n",
    "         54: 1,\n",
    "         55: 1,\n",
    "         56: 3,\n",
    "         58: 3,\n",
    "         59: 1,\n",
    "         60: 1,\n",
    "         62: 2,\n",
    "         63: 2,\n",
    "         64: 1,\n",
    "         65: 1,\n",
    "         69: 1,\n",
    "         70: 1,\n",
    "         71: 1,\n",
    "         74: 2,\n",
    "         76: 2,\n",
    "         78: 1,\n",
    "         79: 1,\n",
    "         80: 1,\n",
    "         81: 1,\n",
    "         85: 1,\n",
    "         87: 1,\n",
    "         88: 1,\n",
    "         89: 2,\n",
    "         92: 1,\n",
    "         98: 1,\n",
    "         99: 1,\n",
    "         103: 1,\n",
    "         105: 1,\n",
    "         106: 2,\n",
    "         109: 1,\n",
    "         111: 1,\n",
    "         114: 1,\n",
    "         115: 2,\n",
    "         118: 1,\n",
    "         122: 1,\n",
    "         123: 1,\n",
    "         125: 1,\n",
    "         129: 1,\n",
    "         138: 1,\n",
    "         141: 1,\n",
    "         147: 1,\n",
    "         151: 1,\n",
    "         154: 1,\n",
    "         155: 1,\n",
    "         157: 1,\n",
    "         165: 1,\n",
    "         180: 1,\n",
    "         208: 1,\n",
    "         212: 1,\n",
    "         226: 1,\n",
    "         235: 1,\n",
    "         242: 1,\n",
    "         258: 1,\n",
    "         260: 2,\n",
    "         304: 1,\n",
    "         344: 1,\n",
    "         345: 2,\n",
    "         350: 1,\n",
    "         472: 1,\n",
    "         476: 1,\n",
    "         560: 1,\n",
    "         573: 1,\n",
    "         711: 1,\n",
    "         740: 1,\n",
    "         3348: 1,\n",
    "         105109: 1}"
   ]
  },
  {
   "cell_type": "code",
   "execution_count": 2,
   "metadata": {
    "collapsed": true
   },
   "outputs": [],
   "source": [
    "total = sum(distribution)"
   ]
  },
  {
   "cell_type": "code",
   "execution_count": 3,
   "metadata": {
    "collapsed": false,
    "scrolled": true
   },
   "outputs": [
    {
     "data": {
      "text/plain": [
       "{1: 3029,\n",
       " 2: 718,\n",
       " 3: 297,\n",
       " 4: 173,\n",
       " 5: 128,\n",
       " 6: 77,\n",
       " 7: 58,\n",
       " 8: 40,\n",
       " 9: 47,\n",
       " 10: 26,\n",
       " 11: 32,\n",
       " 12: 21,\n",
       " 13: 16,\n",
       " 14: 17,\n",
       " 15: 14,\n",
       " 16: 22,\n",
       " 17: 9,\n",
       " 18: 7,\n",
       " 19: 7,\n",
       " 20: 5,\n",
       " 21: 12,\n",
       " 22: 14,\n",
       " 23: 5,\n",
       " 24: 6,\n",
       " 25: 5,\n",
       " 26: 2,\n",
       " 27: 3,\n",
       " 28: 4,\n",
       " 29: 4,\n",
       " 30: 3,\n",
       " 31: 1,\n",
       " 32: 2,\n",
       " 33: 2,\n",
       " 34: 3,\n",
       " 35: 1,\n",
       " 36: 3,\n",
       " 37: 2,\n",
       " 38: 2,\n",
       " 40: 2,\n",
       " 42: 3,\n",
       " 43: 4,\n",
       " 44: 4,\n",
       " 45: 2,\n",
       " 46: 3,\n",
       " 47: 1,\n",
       " 49: 2,\n",
       " 50: 3,\n",
       " 51: 4,\n",
       " 53: 4,\n",
       " 54: 1,\n",
       " 55: 1,\n",
       " 56: 3,\n",
       " 58: 3,\n",
       " 59: 1,\n",
       " 60: 1,\n",
       " 62: 2,\n",
       " 63: 2,\n",
       " 64: 1,\n",
       " 65: 1,\n",
       " 69: 1,\n",
       " 70: 1,\n",
       " 71: 1,\n",
       " 74: 2,\n",
       " 76: 2,\n",
       " 78: 1,\n",
       " 79: 1,\n",
       " 80: 1,\n",
       " 81: 1,\n",
       " 85: 1,\n",
       " 87: 1,\n",
       " 88: 1,\n",
       " 89: 2,\n",
       " 92: 1,\n",
       " 98: 1,\n",
       " 99: 1,\n",
       " 103: 1,\n",
       " 105: 1,\n",
       " 106: 2,\n",
       " 109: 1,\n",
       " 111: 1,\n",
       " 114: 1,\n",
       " 115: 2,\n",
       " 118: 1,\n",
       " 122: 1,\n",
       " 123: 1,\n",
       " 125: 1,\n",
       " 129: 1,\n",
       " 138: 1,\n",
       " 141: 1,\n",
       " 147: 1,\n",
       " 151: 1,\n",
       " 154: 1,\n",
       " 155: 1,\n",
       " 157: 1,\n",
       " 165: 1,\n",
       " 180: 1,\n",
       " 208: 1,\n",
       " 212: 1,\n",
       " 226: 1,\n",
       " 235: 1,\n",
       " 242: 1,\n",
       " 258: 1,\n",
       " 260: 2,\n",
       " 304: 1,\n",
       " 344: 1,\n",
       " 345: 2,\n",
       " 350: 1,\n",
       " 472: 1,\n",
       " 476: 1,\n",
       " 560: 1,\n",
       " 573: 1,\n",
       " 711: 1,\n",
       " 740: 1,\n",
       " 3348: 1,\n",
       " 105109: 1}"
      ]
     },
     "execution_count": 3,
     "metadata": {},
     "output_type": "execute_result"
    }
   ],
   "source": [
    "distribution"
   ]
  },
  {
   "cell_type": "code",
   "execution_count": 77,
   "metadata": {
    "collapsed": false
   },
   "outputs": [
    {
     "data": {
      "text/plain": [
       "0.5454545454545454"
      ]
     },
     "execution_count": 77,
     "metadata": {},
     "output_type": "execute_result"
    }
   ],
   "source": [
    "120/220.0"
   ]
  },
  {
   "cell_type": "code",
   "execution_count": 52,
   "metadata": {
    "collapsed": true
   },
   "outputs": [],
   "source": [
    "import numpy as np\n",
    "\n",
    "\n",
    "def more_frequent(distribution):    \n",
    "    total = sum(distribution)\n",
    "    arr = distribution.values()\n",
    "    arr_cumul = np.cumsum(list(reversed(arr)))[:-1]\n",
    "    arr_cumul = list(reversed([0] + list(arr_cumul)))\n",
    "    arr_cumul = np.asarray(arr_cumul)/(float)(sum(arr_cumul))\n",
    "    cumul_dict = {}\n",
    "    i = 0\n",
    "    \n",
    "    \n",
    "    print arr_cumul\n",
    "    \n",
    "    for key, value in distribution.items():\n",
    "        cumul_dict[key] = arr_cumul[i]\n",
    "        i += 1\n",
    "    return cumul_dict"
   ]
  },
  {
   "cell_type": "code",
   "execution_count": 53,
   "metadata": {
    "collapsed": false
   },
   "outputs": [
    {
     "name": "stdout",
     "output_type": "stream",
     "text": [
      "[  1.22563573e-01   7.62230541e-02   5.70543436e-02   4.58887311e-02\n",
      "   3.76274687e-02   3.26578030e-02   2.89144185e-02   2.63327740e-02\n",
      "   2.32993417e-02   2.16212728e-02   1.95559571e-02   1.82005938e-02\n",
      "   1.71679360e-02   1.60707371e-02   1.51671615e-02   1.37472570e-02\n",
      "   1.31663870e-02   1.27145992e-02   1.22628114e-02   1.19401058e-02\n",
      "   1.11656125e-02   1.02620369e-02   9.93933135e-03   9.55208468e-03\n",
      "   9.22937911e-03   9.10029689e-03   8.90667355e-03   8.64850910e-03\n",
      "   8.39034465e-03   8.19672131e-03   8.13218020e-03   8.00309797e-03\n",
      "   7.87401575e-03   7.68039241e-03   7.61585130e-03   7.42222796e-03\n",
      "   7.29314573e-03   7.16406351e-03   7.03498128e-03   6.84135795e-03\n",
      "   6.58319349e-03   6.32502904e-03   6.19594682e-03   6.00232348e-03\n",
      "   5.93778237e-03   5.87324125e-03   5.74415903e-03   5.55053569e-03\n",
      "   5.29237124e-03   5.03420679e-03   4.96966568e-03   4.90512456e-03\n",
      "   4.71150123e-03   4.51787789e-03   4.45333678e-03   4.38879566e-03\n",
      "   4.32425455e-03   4.19517232e-03   4.06609010e-03   4.00154899e-03\n",
      "   3.93700787e-03   3.87246676e-03   3.80792565e-03   3.74338454e-03\n",
      "   3.61430231e-03   3.48522009e-03   3.42067897e-03   3.35613786e-03\n",
      "   3.29159675e-03   3.22705563e-03   3.16251452e-03   3.09797341e-03\n",
      "   3.03343230e-03   2.90435007e-03   2.83980896e-03   2.77526785e-03\n",
      "   2.71072673e-03   2.64618562e-03   2.58164451e-03   2.45256228e-03\n",
      "   2.38802117e-03   2.32348006e-03   2.25893894e-03   2.12985672e-03\n",
      "   2.06531561e-03   2.00077449e-03   1.93623338e-03   1.87169227e-03\n",
      "   1.80715116e-03   1.74261004e-03   1.67806893e-03   1.61352782e-03\n",
      "   1.54898670e-03   1.48444559e-03   1.41990448e-03   1.35536337e-03\n",
      "   1.29082225e-03   1.22628114e-03   1.16174003e-03   1.09719892e-03\n",
      "   1.03265780e-03   9.68116690e-04   9.03575578e-04   8.39034465e-04\n",
      "   7.74493352e-04   7.09952240e-04   6.45411127e-04   5.16328902e-04\n",
      "   4.51787789e-04   3.87246676e-04   3.22705563e-04   1.93623338e-04\n",
      "   1.29082225e-04   6.45411127e-05   0.00000000e+00]\n"
     ]
    },
    {
     "data": {
      "text/plain": [
       "{1: 0.12256357299599845,\n",
       " 2: 0.076223054085452435,\n",
       " 3: 0.057054343616883954,\n",
       " 4: 0.045888731121724535,\n",
       " 5: 0.037627468697560347,\n",
       " 6: 0.032657803020524075,\n",
       " 7: 0.028914418484574673,\n",
       " 8: 0.026332773977023365,\n",
       " 9: 0.023299341680650575,\n",
       " 10: 0.021621272750742222,\n",
       " 11: 0.019555957144701173,\n",
       " 12: 0.018200593778236736,\n",
       " 13: 0.017167935975216212,\n",
       " 14: 0.016070737059506904,\n",
       " 15: 0.015167161481863946,\n",
       " 16: 0.013747257002710726,\n",
       " 17: 0.013166386988511683,\n",
       " 18: 0.012714599199690202,\n",
       " 19: 0.012262811410868723,\n",
       " 20: 0.01194010584742481,\n",
       " 21: 0.011165612495159417,\n",
       " 22: 0.010262036917516457,\n",
       " 23: 0.0099393313540725448,\n",
       " 24: 0.0095520846779398472,\n",
       " 25: 0.0092293791144959347,\n",
       " 26: 0.0091002968891183682,\n",
       " 27: 0.0089066735510520204,\n",
       " 28: 0.0086485091002968893,\n",
       " 29: 0.0083903446495417582,\n",
       " 30: 0.0081967213114754103,\n",
       " 31: 0.0081321801987866271,\n",
       " 32: 0.0080030979734090624,\n",
       " 33: 0.007874015748031496,\n",
       " 34: 0.0076803924099651481,\n",
       " 35: 0.0076158512972763649,\n",
       " 36: 0.007422227959210017,\n",
       " 37: 0.0072931457338324514,\n",
       " 38: 0.0071640635084548859,\n",
       " 40: 0.0070349812830773203,\n",
       " 42: 0.0068413579450109724,\n",
       " 43: 0.0065831934942558413,\n",
       " 44: 0.0063250290435007102,\n",
       " 45: 0.0061959468181231447,\n",
       " 46: 0.0060023234800567959,\n",
       " 47: 0.0059377823673680136,\n",
       " 49: 0.0057441590293016648,\n",
       " 50: 0.0055505356912353169,\n",
       " 51: 0.0052923712404801858,\n",
       " 53: 0.0050342067897250547,\n",
       " 54: 0.0049696656770362724,\n",
       " 55: 0.0049051245643474892,\n",
       " 56: 0.0047115012262811413,\n",
       " 58: 0.0045178778882147925,\n",
       " 59: 0.0044533367755260102,\n",
       " 60: 0.004388795662837227,\n",
       " 62: 0.0041951723247708791,\n",
       " 63: 0.0040660900993933135,\n",
       " 64: 0.0040015489867045312,\n",
       " 65: 0.003937007874015748,\n",
       " 69: 0.0038724667613269652,\n",
       " 70: 0.0038079256486381824,\n",
       " 71: 0.0037433845359493997,\n",
       " 74: 0.0036143023105718341,\n",
       " 76: 0.0034852200851942686,\n",
       " 78: 0.0034206789725054862,\n",
       " 79: 0.0033561378598167034,\n",
       " 80: 0.0032915967471279207,\n",
       " 81: 0.0032270556344391379,\n",
       " 85: 0.0031625145217503551,\n",
       " 87: 0.0030979734090615723,\n",
       " 88: 0.0030334322963727896,\n",
       " 89: 0.002904350070995224,\n",
       " 92: 0.0028398089583064412,\n",
       " 98: 0.0027752678456176585,\n",
       " 99: 0.0027107267329288757,\n",
       " 103: 0.0026461856202400929,\n",
       " 105: 0.0025816445075513101,\n",
       " 106: 0.0024525622821737446,\n",
       " 109: 0.0023880211694849618,\n",
       " 111: 0.002323480056796179,\n",
       " 114: 0.0022589389441073963,\n",
       " 115: 0.0021298567187298307,\n",
       " 118: 0.0020653156060410479,\n",
       " 122: 0.0020007744933522656,\n",
       " 123: 0.0019362333806634826,\n",
       " 125: 0.0018716922679746998,\n",
       " 129: 0.0018071511552859171,\n",
       " 138: 0.0017426100425971343,\n",
       " 141: 0.0016780689299083517,\n",
       " 147: 0.0016135278172195689,\n",
       " 151: 0.0014844455918420034,\n",
       " 154: 0.0014199044791532206,\n",
       " 155: 0.0013553633664644378,\n",
       " 157: 0.0012908222537756551,\n",
       " 165: 0.0012262811410868723,\n",
       " 180: 0.0011617400283980895,\n",
       " 208: 0.001032657803020524,\n",
       " 212: 0.0009681166903317413,\n",
       " 226: 0.00090357557764295853,\n",
       " 235: 0.00077449335226539308,\n",
       " 242: 0.00070995223957661031,\n",
       " 258: 0.00064541112688782753,\n",
       " 260: 0.00051632890151026198,\n",
       " 304: 0.00038724667613269654,\n",
       " 344: 0.00032270556344391377,\n",
       " 345: 0.00019362333806634827,\n",
       " 350: 0.0001290822253775655,\n",
       " 472: 6.4541112688782748e-05,\n",
       " 476: 0.0,\n",
       " 560: 0.0058732412546792304,\n",
       " 573: 0.0043242545501484446,\n",
       " 711: 0.0010971989157093067,\n",
       " 740: 0.00083903446495417586,\n",
       " 3348: 0.00045178778882147926,\n",
       " 105109: 0.0015489867045307862}"
      ]
     },
     "execution_count": 53,
     "metadata": {},
     "output_type": "execute_result"
    }
   ],
   "source": [
    "more_frequent(distribution)"
   ]
  },
  {
   "cell_type": "code",
   "execution_count": 64,
   "metadata": {
    "collapsed": false
   },
   "outputs": [],
   "source": [
    "def more_frequent2(distribution):\n",
    "    counts = list(distribution.keys())\n",
    "    frequency_of_counts = list(distribution.values())\n",
    "    cumulative_frequencies = np.cumsum(frequency_of_counts)\n",
    "    more_frequent = 1 - cumulative_frequencies / (float)(cumulative_frequencies[-1])\n",
    "    return dict(zip(counts, more_frequent))\n",
    "    \n",
    "cumulative = more_frequent2(distribution)"
   ]
  },
  {
   "cell_type": "code",
   "execution_count": 65,
   "metadata": {
    "collapsed": false,
    "scrolled": true
   },
   "outputs": [
    {
     "data": {
      "text/plain": [
       "{1: 0.38534902597402598,\n",
       " 2: 0.23965097402597402,\n",
       " 3: 0.17938311688311692,\n",
       " 4: 0.14427759740259738,\n",
       " 5: 0.1183035714285714,\n",
       " 6: 0.1026785714285714,\n",
       " 7: 0.090909090909090939,\n",
       " 8: 0.08279220779220775,\n",
       " 9: 0.073254870129870087,\n",
       " 10: 0.067978896103896069,\n",
       " 11: 0.061485389610389629,\n",
       " 12: 0.057224025974025983,\n",
       " 13: 0.053977272727272707,\n",
       " 14: 0.05052759740259738,\n",
       " 15: 0.047686688311688319,\n",
       " 16: 0.04322240259740262,\n",
       " 17: 0.041396103896103931,\n",
       " 18: 0.039975649350649345,\n",
       " 19: 0.038555194805194759,\n",
       " 20: 0.037540584415584388,\n",
       " 21: 0.035105519480519431,\n",
       " 22: 0.032264610389610371,\n",
       " 23: 0.03125,\n",
       " 24: 0.030032467532467577,\n",
       " 25: 0.029017857142857095,\n",
       " 26: 0.028612012987012991,\n",
       " 27: 0.028003246753246724,\n",
       " 28: 0.027191558441558406,\n",
       " 29: 0.026379870129870087,\n",
       " 30: 0.025771103896103931,\n",
       " 31: 0.025568181818181768,\n",
       " 32: 0.025162337662337664,\n",
       " 33: 0.02475649350649356,\n",
       " 34: 0.024147727272727293,\n",
       " 35: 0.023944805194805241,\n",
       " 36: 0.023336038961038974,\n",
       " 37: 0.022930194805194759,\n",
       " 38: 0.022524350649350655,\n",
       " 40: 0.02211850649350644,\n",
       " 42: 0.021509740259740284,\n",
       " 43: 0.020698051948051965,\n",
       " 44: 0.019886363636363646,\n",
       " 45: 0.019480519480519431,\n",
       " 46: 0.018871753246753276,\n",
       " 47: 0.018668831168831224,\n",
       " 49: 0.018060064935064957,\n",
       " 50: 0.01745129870129869,\n",
       " 51: 0.016639610389610371,\n",
       " 53: 0.015827922077922052,\n",
       " 54: 0.015625,\n",
       " 55: 0.015422077922077948,\n",
       " 56: 0.014813311688311681,\n",
       " 58: 0.014204545454545414,\n",
       " 59: 0.014001623376623362,\n",
       " 60: 0.01379870129870131,\n",
       " 62: 0.013189935064935043,\n",
       " 63: 0.012784090909090939,\n",
       " 64: 0.012581168831168776,\n",
       " 65: 0.012378246753246724,\n",
       " 69: 0.012175324675324672,\n",
       " 70: 0.01197240259740262,\n",
       " 71: 0.011769480519480569,\n",
       " 74: 0.011363636363636354,\n",
       " 76: 0.01095779220779225,\n",
       " 78: 0.010754870129870087,\n",
       " 79: 0.010551948051948035,\n",
       " 80: 0.010349025974025983,\n",
       " 81: 0.010146103896103931,\n",
       " 85: 0.0099431818181817677,\n",
       " 87: 0.0097402597402597157,\n",
       " 88: 0.0095373376623376638,\n",
       " 89: 0.0091314935064935598,\n",
       " 92: 0.0089285714285713969,\n",
       " 98: 0.0087256493506493449,\n",
       " 99: 0.0085227272727272929,\n",
       " 103: 0.0083198051948052409,\n",
       " 105: 0.008116883116883078,\n",
       " 106: 0.007711038961038974,\n",
       " 109: 0.007508116883116922,\n",
       " 111: 0.0073051948051947591,\n",
       " 114: 0.0071022727272727071,\n",
       " 115: 0.0066964285714286031,\n",
       " 118: 0.0064935064935064402,\n",
       " 122: 0.0062905844155843882,\n",
       " 123: 0.0060876623376623362,\n",
       " 125: 0.0058847402597402843,\n",
       " 129: 0.0056818181818182323,\n",
       " 138: 0.0054788961038960693,\n",
       " 141: 0.0052759740259740173,\n",
       " 147: 0.0050730519480519654,\n",
       " 151: 0.0046672077922077504,\n",
       " 154: 0.0044642857142856984,\n",
       " 155: 0.0042613636363636465,\n",
       " 157: 0.0040584415584415945,\n",
       " 165: 0.0038555194805194315,\n",
       " 180: 0.0036525974025973795,\n",
       " 208: 0.0032467532467532756,\n",
       " 212: 0.0030438311688312236,\n",
       " 226: 0.0028409090909090606,\n",
       " 235: 0.0024350649350649567,\n",
       " 242: 0.0022321428571429047,\n",
       " 258: 0.0020292207792207417,\n",
       " 260: 0.0016233766233766378,\n",
       " 304: 0.0012175324675324228,\n",
       " 344: 0.0010146103896103709,\n",
       " 345: 0.00060876623376626693,\n",
       " 350: 0.00040584415584410394,\n",
       " 472: 0.00020292207792205197,\n",
       " 476: 0.0,\n",
       " 560: 0.018465909090909061,\n",
       " 573: 0.013595779220779258,\n",
       " 711: 0.0034496753246753276,\n",
       " 740: 0.0026379870129870087,\n",
       " 3348: 0.0014204545454545858,\n",
       " 105109: 0.0048701298701299134}"
      ]
     },
     "execution_count": 65,
     "metadata": {},
     "output_type": "execute_result"
    }
   ],
   "source": [
    "cumulative"
   ]
  },
  {
   "cell_type": "code",
   "execution_count": 71,
   "metadata": {
    "collapsed": false
   },
   "outputs": [
    {
     "data": {
      "text/plain": [
       "array([  3.85349026e-01,   2.39650974e-01,   1.79383117e-01,\n",
       "         1.44277597e-01,   1.18303571e-01,   1.02678571e-01,\n",
       "         9.09090909e-02,   8.27922078e-02,   7.32548701e-02,\n",
       "         6.79788961e-02,   6.14853896e-02,   5.72240260e-02,\n",
       "         5.39772727e-02,   5.05275974e-02,   4.76866883e-02,\n",
       "         4.32224026e-02,   4.13961039e-02,   3.99756494e-02,\n",
       "         3.85551948e-02,   3.75405844e-02,   3.51055195e-02,\n",
       "         3.22646104e-02,   3.12500000e-02,   3.00324675e-02,\n",
       "         2.90178571e-02,   2.86120130e-02,   2.80032468e-02,\n",
       "         2.71915584e-02,   2.63798701e-02,   2.57711039e-02,\n",
       "         2.55681818e-02,   2.51623377e-02,   2.47564935e-02,\n",
       "         2.41477273e-02,   2.39448052e-02,   2.33360390e-02,\n",
       "         2.29301948e-02,   2.25243506e-02,   2.21185065e-02,\n",
       "         2.15097403e-02,   2.06980519e-02,   1.98863636e-02,\n",
       "         1.94805195e-02,   1.88717532e-02,   1.86688312e-02,\n",
       "         1.84659091e-02,   1.80600649e-02,   1.74512987e-02,\n",
       "         1.66396104e-02,   1.58279221e-02,   1.56250000e-02,\n",
       "         1.54220779e-02,   1.48133117e-02,   1.42045455e-02,\n",
       "         1.40016234e-02,   1.37987013e-02,   1.35957792e-02,\n",
       "         1.31899351e-02,   1.27840909e-02,   1.25811688e-02,\n",
       "         1.23782468e-02,   1.21753247e-02,   1.19724026e-02,\n",
       "         1.17694805e-02,   1.13636364e-02,   1.09577922e-02,\n",
       "         1.07548701e-02,   1.05519481e-02,   1.03490260e-02,\n",
       "         1.01461039e-02,   9.94318182e-03,   9.74025974e-03,\n",
       "         9.53733766e-03,   9.13149351e-03,   8.92857143e-03,\n",
       "         8.72564935e-03,   8.52272727e-03,   8.31980519e-03,\n",
       "         8.11688312e-03,   7.71103896e-03,   7.50811688e-03,\n",
       "         7.30519481e-03,   7.10227273e-03,   6.69642857e-03,\n",
       "         6.49350649e-03,   6.29058442e-03,   6.08766234e-03,\n",
       "         5.88474026e-03,   5.68181818e-03,   5.47889610e-03,\n",
       "         5.27597403e-03,   5.07305195e-03,   4.87012987e-03,\n",
       "         4.66720779e-03,   4.46428571e-03,   4.26136364e-03,\n",
       "         4.05844156e-03,   3.85551948e-03,   3.65259740e-03,\n",
       "         3.44967532e-03,   3.24675325e-03,   3.04383117e-03,\n",
       "         2.84090909e-03,   2.63798701e-03,   2.43506494e-03,\n",
       "         2.23214286e-03,   2.02922078e-03,   1.62337662e-03,\n",
       "         1.42045455e-03,   1.21753247e-03,   1.01461039e-03,\n",
       "         6.08766234e-04,   4.05844156e-04,   2.02922078e-04,\n",
       "         0.00000000e+00])"
      ]
     },
     "execution_count": 71,
     "metadata": {},
     "output_type": "execute_result"
    }
   ],
   "source": [
    "1 - np.cumsum(list(distribution.values()))/(float)(np.cumsum(list(distribution.values()))[-1])"
   ]
  },
  {
   "cell_type": "code",
   "execution_count": null,
   "metadata": {
    "collapsed": true
   },
   "outputs": [],
   "source": []
  }
 ],
 "metadata": {
  "kernelspec": {
   "display_name": "Python 2",
   "language": "python",
   "name": "python2"
  },
  "language_info": {
   "codemirror_mode": {
    "name": "ipython",
    "version": 2
   },
   "file_extension": ".py",
   "mimetype": "text/x-python",
   "name": "python",
   "nbconvert_exporter": "python",
   "pygments_lexer": "ipython2",
   "version": "2.7.6"
  }
 },
 "nbformat": 4,
 "nbformat_minor": 1
}

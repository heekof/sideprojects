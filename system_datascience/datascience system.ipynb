{
 "cells": [
  {
   "cell_type": "code",
   "execution_count": 91,
   "metadata": {
    "collapsed": false
   },
   "outputs": [],
   "source": [
    "import numpy as np\n",
    "import pandas as pd\n",
    "from datetime import datetime\n",
    "import time\n",
    "%matplotlib inline"
   ]
  },
  {
   "cell_type": "code",
   "execution_count": 9,
   "metadata": {
    "collapsed": true
   },
   "outputs": [],
   "source": [
    "dframe = pd.read_csv(\"datafiles.csv\", sep=\";\")"
   ]
  },
  {
   "cell_type": "code",
   "execution_count": 10,
   "metadata": {
    "collapsed": false
   },
   "outputs": [
    {
     "data": {
      "text/html": [
       "<div>\n",
       "<table border=\"1\" class=\"dataframe\">\n",
       "  <thead>\n",
       "    <tr style=\"text-align: right;\">\n",
       "      <th></th>\n",
       "      <th>file path</th>\n",
       "      <th>size</th>\n",
       "      <th>last time accessed</th>\n",
       "      <th>last time modified</th>\n",
       "    </tr>\n",
       "  </thead>\n",
       "  <tbody>\n",
       "    <tr>\n",
       "      <th>0</th>\n",
       "      <td>/home/jaafar/Downloads/FootWorship_s01_ShonaRi...</td>\n",
       "      <td>1855834741</td>\n",
       "      <td>1.494709e+09</td>\n",
       "      <td>1.493560e+09</td>\n",
       "    </tr>\n",
       "    <tr>\n",
       "      <th>1</th>\n",
       "      <td>/home/jaafar/Downloads/57ce4c701798d.mp4</td>\n",
       "      <td>349031429</td>\n",
       "      <td>1.494709e+09</td>\n",
       "      <td>1.493564e+09</td>\n",
       "    </tr>\n",
       "    <tr>\n",
       "      <th>2</th>\n",
       "      <td>/home/jaafar/Downloads/57f8fa1bd0674.mp4</td>\n",
       "      <td>332701690</td>\n",
       "      <td>1.495140e+09</td>\n",
       "      <td>1.493565e+09</td>\n",
       "    </tr>\n",
       "    <tr>\n",
       "      <th>3</th>\n",
       "      <td>/home/jaafar/Downloads/57ee48e54d50a.mp4</td>\n",
       "      <td>327904369</td>\n",
       "      <td>1.494709e+09</td>\n",
       "      <td>1.493564e+09</td>\n",
       "    </tr>\n",
       "    <tr>\n",
       "      <th>4</th>\n",
       "      <td>/home/jaafar/CloudStation/Thesis/MyDocuments/I...</td>\n",
       "      <td>248563439</td>\n",
       "      <td>1.489866e+09</td>\n",
       "      <td>1.489592e+09</td>\n",
       "    </tr>\n",
       "    <tr>\n",
       "      <th>5</th>\n",
       "      <td>/home/jaafar/.PyCharmCE2016.3/system/caches/co...</td>\n",
       "      <td>196501318</td>\n",
       "      <td>1.495186e+09</td>\n",
       "      <td>1.495186e+09</td>\n",
       "    </tr>\n",
       "    <tr>\n",
       "      <th>6</th>\n",
       "      <td>/home/jaafar/Downloads/[ Torrent9.info ] The.B...</td>\n",
       "      <td>184442298</td>\n",
       "      <td>1.494708e+09</td>\n",
       "      <td>1.493501e+09</td>\n",
       "    </tr>\n",
       "    <tr>\n",
       "      <th>7</th>\n",
       "      <td>/home/jaafar/Downloads/[ Torrent9.info ] The.B...</td>\n",
       "      <td>184199680</td>\n",
       "      <td>1.494710e+09</td>\n",
       "      <td>1.494710e+09</td>\n",
       "    </tr>\n",
       "    <tr>\n",
       "      <th>8</th>\n",
       "      <td>/home/jaafar/Downloads/[ Torrent9.info ] The.B...</td>\n",
       "      <td>168969204</td>\n",
       "      <td>1.494708e+09</td>\n",
       "      <td>1.494708e+09</td>\n",
       "    </tr>\n",
       "    <tr>\n",
       "      <th>9</th>\n",
       "      <td>/home/jaafar/Downloads/change-your-mind-change...</td>\n",
       "      <td>114202474</td>\n",
       "      <td>1.494709e+09</td>\n",
       "      <td>1.493507e+09</td>\n",
       "    </tr>\n",
       "  </tbody>\n",
       "</table>\n",
       "</div>"
      ],
      "text/plain": [
       "                                          file path         size  \\\n",
       "0  /home/jaafar/Downloads/FootWorship_s01_ShonaRi...  1855834741   \n",
       "1          /home/jaafar/Downloads/57ce4c701798d.mp4    349031429   \n",
       "2          /home/jaafar/Downloads/57f8fa1bd0674.mp4    332701690   \n",
       "3          /home/jaafar/Downloads/57ee48e54d50a.mp4    327904369   \n",
       "4  /home/jaafar/CloudStation/Thesis/MyDocuments/I...   248563439   \n",
       "5  /home/jaafar/.PyCharmCE2016.3/system/caches/co...   196501318   \n",
       "6  /home/jaafar/Downloads/[ Torrent9.info ] The.B...   184442298   \n",
       "7  /home/jaafar/Downloads/[ Torrent9.info ] The.B...   184199680   \n",
       "8  /home/jaafar/Downloads/[ Torrent9.info ] The.B...   168969204   \n",
       "9  /home/jaafar/Downloads/change-your-mind-change...   114202474   \n",
       "\n",
       "    last time accessed   last time modified  \n",
       "0         1.494709e+09         1.493560e+09  \n",
       "1         1.494709e+09         1.493564e+09  \n",
       "2         1.495140e+09         1.493565e+09  \n",
       "3         1.494709e+09         1.493564e+09  \n",
       "4         1.489866e+09         1.489592e+09  \n",
       "5         1.495186e+09         1.495186e+09  \n",
       "6         1.494708e+09         1.493501e+09  \n",
       "7         1.494710e+09         1.494710e+09  \n",
       "8         1.494708e+09         1.494708e+09  \n",
       "9         1.494709e+09         1.493507e+09  "
      ]
     },
     "execution_count": 10,
     "metadata": {},
     "output_type": "execute_result"
    }
   ],
   "source": [
    "dframe.head(10)"
   ]
  },
  {
   "cell_type": "code",
   "execution_count": 11,
   "metadata": {
    "collapsed": false
   },
   "outputs": [
    {
     "data": {
      "text/plain": [
       "'\\nCHange Last time accessed into (hours - current hours)\\n\\n'"
      ]
     },
     "execution_count": 11,
     "metadata": {},
     "output_type": "execute_result"
    }
   ],
   "source": [
    "'''\n",
    "CHange Last time accessed into (hours - current hours)\n",
    "\n",
    "'''"
   ]
  },
  {
   "cell_type": "code",
   "execution_count": 22,
   "metadata": {
    "collapsed": false,
    "scrolled": true
   },
   "outputs": [],
   "source": [
    "#dframe[\" last time accessed\"].apply(lambda x: datetime.fromtimestamp(int(x)).strftime('%Y-%m-%d %H:%M:%S'))\n",
    "dframe['laccess'] = dframe[\" last time accessed\"].apply(lambda x: (time.time()/3600) - (int(x)/3600))"
   ]
  },
  {
   "cell_type": "code",
   "execution_count": 24,
   "metadata": {
    "collapsed": true
   },
   "outputs": [],
   "source": [
    "dframe['lmodify'] = dframe[\" last time modified\"].apply(lambda x: (time.time()/3600) - (int(x)/3600))"
   ]
  },
  {
   "cell_type": "code",
   "execution_count": 25,
   "metadata": {
    "collapsed": false
   },
   "outputs": [
    {
     "data": {
      "text/html": [
       "<div>\n",
       "<table border=\"1\" class=\"dataframe\">\n",
       "  <thead>\n",
       "    <tr style=\"text-align: right;\">\n",
       "      <th></th>\n",
       "      <th>file path</th>\n",
       "      <th>size</th>\n",
       "      <th>last time accessed</th>\n",
       "      <th>last time modified</th>\n",
       "      <th>laccess</th>\n",
       "      <th>lmodify</th>\n",
       "    </tr>\n",
       "  </thead>\n",
       "  <tbody>\n",
       "    <tr>\n",
       "      <th>0</th>\n",
       "      <td>/home/jaafar/Downloads/FootWorship_s01_ShonaRi...</td>\n",
       "      <td>1855834741</td>\n",
       "      <td>1.494709e+09</td>\n",
       "      <td>1.493560e+09</td>\n",
       "      <td>136.487904</td>\n",
       "      <td>455.500551</td>\n",
       "    </tr>\n",
       "    <tr>\n",
       "      <th>1</th>\n",
       "      <td>/home/jaafar/Downloads/57ce4c701798d.mp4</td>\n",
       "      <td>349031429</td>\n",
       "      <td>1.494709e+09</td>\n",
       "      <td>1.493564e+09</td>\n",
       "      <td>136.487904</td>\n",
       "      <td>454.500551</td>\n",
       "    </tr>\n",
       "    <tr>\n",
       "      <th>2</th>\n",
       "      <td>/home/jaafar/Downloads/57f8fa1bd0674.mp4</td>\n",
       "      <td>332701690</td>\n",
       "      <td>1.495140e+09</td>\n",
       "      <td>1.493565e+09</td>\n",
       "      <td>16.487904</td>\n",
       "      <td>453.500551</td>\n",
       "    </tr>\n",
       "    <tr>\n",
       "      <th>3</th>\n",
       "      <td>/home/jaafar/Downloads/57ee48e54d50a.mp4</td>\n",
       "      <td>327904369</td>\n",
       "      <td>1.494709e+09</td>\n",
       "      <td>1.493564e+09</td>\n",
       "      <td>136.487904</td>\n",
       "      <td>454.500551</td>\n",
       "    </tr>\n",
       "    <tr>\n",
       "      <th>4</th>\n",
       "      <td>/home/jaafar/CloudStation/Thesis/MyDocuments/I...</td>\n",
       "      <td>248563439</td>\n",
       "      <td>1.489866e+09</td>\n",
       "      <td>1.489592e+09</td>\n",
       "      <td>1481.487904</td>\n",
       "      <td>1557.500551</td>\n",
       "    </tr>\n",
       "  </tbody>\n",
       "</table>\n",
       "</div>"
      ],
      "text/plain": [
       "                                          file path         size  \\\n",
       "0  /home/jaafar/Downloads/FootWorship_s01_ShonaRi...  1855834741   \n",
       "1          /home/jaafar/Downloads/57ce4c701798d.mp4    349031429   \n",
       "2          /home/jaafar/Downloads/57f8fa1bd0674.mp4    332701690   \n",
       "3          /home/jaafar/Downloads/57ee48e54d50a.mp4    327904369   \n",
       "4  /home/jaafar/CloudStation/Thesis/MyDocuments/I...   248563439   \n",
       "\n",
       "    last time accessed   last time modified      laccess      lmodify  \n",
       "0         1.494709e+09         1.493560e+09   136.487904   455.500551  \n",
       "1         1.494709e+09         1.493564e+09   136.487904   454.500551  \n",
       "2         1.495140e+09         1.493565e+09    16.487904   453.500551  \n",
       "3         1.494709e+09         1.493564e+09   136.487904   454.500551  \n",
       "4         1.489866e+09         1.489592e+09  1481.487904  1557.500551  "
      ]
     },
     "execution_count": 25,
     "metadata": {},
     "output_type": "execute_result"
    }
   ],
   "source": [
    "dframe.head()"
   ]
  },
  {
   "cell_type": "code",
   "execution_count": 11,
   "metadata": {
    "collapsed": false
   },
   "outputs": [
    {
     "data": {
      "text/plain": [
       "Index([u'file path ', u' size', u' last time accessed',\n",
       "       u' last time modified'],\n",
       "      dtype='object')"
      ]
     },
     "execution_count": 11,
     "metadata": {},
     "output_type": "execute_result"
    }
   ],
   "source": [
    "dframe.columns"
   ]
  },
  {
   "cell_type": "code",
   "execution_count": 21,
   "metadata": {
    "collapsed": false
   },
   "outputs": [
    {
     "data": {
      "text/plain": [
       "0      1.494709e+09\n",
       "1      1.494709e+09\n",
       "2      1.495140e+09\n",
       "3      1.494709e+09\n",
       "4      1.489866e+09\n",
       "5      1.495186e+09\n",
       "6      1.494708e+09\n",
       "7      1.494710e+09\n",
       "8      1.494708e+09\n",
       "9      1.494709e+09\n",
       "10     1.486372e+09\n",
       "11     1.487341e+09\n",
       "12     1.489337e+09\n",
       "13     1.480438e+09\n",
       "14     1.474910e+09\n",
       "15     1.495178e+09\n",
       "16     1.475347e+09\n",
       "17     1.474910e+09\n",
       "18     1.475347e+09\n",
       "19     1.474910e+09\n",
       "20     1.474910e+09\n",
       "21     1.475347e+09\n",
       "22     1.474910e+09\n",
       "23     1.474919e+09\n",
       "24     1.474919e+09\n",
       "25     1.495186e+09\n",
       "26     1.495178e+09\n",
       "27     1.474910e+09\n",
       "28     1.474910e+09\n",
       "29     1.495186e+09\n",
       "           ...     \n",
       "970    1.487973e+09\n",
       "971    1.487973e+09\n",
       "972    1.487972e+09\n",
       "973    1.487972e+09\n",
       "974    1.487972e+09\n",
       "975    1.487972e+09\n",
       "976    1.487972e+09\n",
       "977    1.487972e+09\n",
       "978    1.487972e+09\n",
       "979    1.487972e+09\n",
       "980    1.487972e+09\n",
       "981    1.487972e+09\n",
       "982    1.487972e+09\n",
       "983    1.487972e+09\n",
       "984    1.487972e+09\n",
       "985    1.487972e+09\n",
       "986    1.487972e+09\n",
       "987    1.487972e+09\n",
       "988    1.487972e+09\n",
       "989    1.487972e+09\n",
       "990    1.487972e+09\n",
       "991    1.487972e+09\n",
       "992    1.487972e+09\n",
       "993    1.487972e+09\n",
       "994    1.487972e+09\n",
       "995    1.487972e+09\n",
       "996    1.487972e+09\n",
       "997    1.487971e+09\n",
       "998    1.487971e+09\n",
       "999    1.487971e+09\n",
       "Name:  last time accessed, dtype: float64"
      ]
     },
     "execution_count": 21,
     "metadata": {},
     "output_type": "execute_result"
    }
   ],
   "source": [
    "dframe[' last time accessed']"
   ]
  },
  {
   "cell_type": "code",
   "execution_count": 6,
   "metadata": {
    "collapsed": false
   },
   "outputs": [
    {
     "name": "stdout",
     "output_type": "stream",
     "text": [
      "datetime.datetime(2008, 11, 12, 22, 59, 27, 595983)\n"
     ]
    }
   ],
   "source": [
    "# timestamp to datetime object in local time\n",
    "timestamp = 1226527167.595983\n",
    "dt_obj = datetime.fromtimestamp(timestamp)\n",
    "print repr(dt_obj)"
   ]
  },
  {
   "cell_type": "code",
   "execution_count": 15,
   "metadata": {
    "collapsed": false
   },
   "outputs": [
    {
     "data": {
      "text/plain": [
       "datetime.datetime(2017, 5, 19, 14, 27, 16, 886071)"
      ]
     },
     "execution_count": 15,
     "metadata": {},
     "output_type": "execute_result"
    }
   ],
   "source": [
    "datetime.now()"
   ]
  },
  {
   "cell_type": "code",
   "execution_count": 18,
   "metadata": {
    "collapsed": false
   },
   "outputs": [
    {
     "data": {
      "text/plain": [
       "415332.4660898933"
      ]
     },
     "execution_count": 18,
     "metadata": {},
     "output_type": "execute_result"
    }
   ],
   "source": [
    "import time\n",
    "time.time()/3600"
   ]
  },
  {
   "cell_type": "code",
   "execution_count": 31,
   "metadata": {
    "collapsed": false
   },
   "outputs": [],
   "source": [
    "ldframe = dframe.drop([\" last time accessed\", \" last time modified\"], axis=1)"
   ]
  },
  {
   "cell_type": "code",
   "execution_count": 32,
   "metadata": {
    "collapsed": false
   },
   "outputs": [
    {
     "data": {
      "text/html": [
       "<div>\n",
       "<table border=\"1\" class=\"dataframe\">\n",
       "  <thead>\n",
       "    <tr style=\"text-align: right;\">\n",
       "      <th></th>\n",
       "      <th>file path</th>\n",
       "      <th>size</th>\n",
       "      <th>laccess</th>\n",
       "      <th>lmodify</th>\n",
       "    </tr>\n",
       "  </thead>\n",
       "  <tbody>\n",
       "    <tr>\n",
       "      <th>0</th>\n",
       "      <td>/home/jaafar/Downloads/FootWorship_s01_ShonaRi...</td>\n",
       "      <td>1855834741</td>\n",
       "      <td>136.487904</td>\n",
       "      <td>455.500551</td>\n",
       "    </tr>\n",
       "    <tr>\n",
       "      <th>1</th>\n",
       "      <td>/home/jaafar/Downloads/57ce4c701798d.mp4</td>\n",
       "      <td>349031429</td>\n",
       "      <td>136.487904</td>\n",
       "      <td>454.500551</td>\n",
       "    </tr>\n",
       "    <tr>\n",
       "      <th>2</th>\n",
       "      <td>/home/jaafar/Downloads/57f8fa1bd0674.mp4</td>\n",
       "      <td>332701690</td>\n",
       "      <td>16.487904</td>\n",
       "      <td>453.500551</td>\n",
       "    </tr>\n",
       "    <tr>\n",
       "      <th>3</th>\n",
       "      <td>/home/jaafar/Downloads/57ee48e54d50a.mp4</td>\n",
       "      <td>327904369</td>\n",
       "      <td>136.487904</td>\n",
       "      <td>454.500551</td>\n",
       "    </tr>\n",
       "    <tr>\n",
       "      <th>4</th>\n",
       "      <td>/home/jaafar/CloudStation/Thesis/MyDocuments/I...</td>\n",
       "      <td>248563439</td>\n",
       "      <td>1481.487904</td>\n",
       "      <td>1557.500551</td>\n",
       "    </tr>\n",
       "  </tbody>\n",
       "</table>\n",
       "</div>"
      ],
      "text/plain": [
       "                                          file path         size      laccess  \\\n",
       "0  /home/jaafar/Downloads/FootWorship_s01_ShonaRi...  1855834741   136.487904   \n",
       "1          /home/jaafar/Downloads/57ce4c701798d.mp4    349031429   136.487904   \n",
       "2          /home/jaafar/Downloads/57f8fa1bd0674.mp4    332701690    16.487904   \n",
       "3          /home/jaafar/Downloads/57ee48e54d50a.mp4    327904369   136.487904   \n",
       "4  /home/jaafar/CloudStation/Thesis/MyDocuments/I...   248563439  1481.487904   \n",
       "\n",
       "       lmodify  \n",
       "0   455.500551  \n",
       "1   454.500551  \n",
       "2   453.500551  \n",
       "3   454.500551  \n",
       "4  1557.500551  "
      ]
     },
     "execution_count": 32,
     "metadata": {},
     "output_type": "execute_result"
    }
   ],
   "source": [
    "ldframe.head()"
   ]
  },
  {
   "cell_type": "code",
   "execution_count": 41,
   "metadata": {
    "collapsed": false
   },
   "outputs": [
    {
     "data": {
      "text/plain": [
       "Index([u'file path ', u' size', u'laccess', u'lmodify'], dtype='object')"
      ]
     },
     "execution_count": 41,
     "metadata": {},
     "output_type": "execute_result"
    }
   ],
   "source": [
    "ldframe.columns"
   ]
  },
  {
   "cell_type": "code",
   "execution_count": 52,
   "metadata": {
    "collapsed": false
   },
   "outputs": [],
   "source": [
    "laccess_dframe = ldframe.sort_values(by='laccess')"
   ]
  },
  {
   "cell_type": "code",
   "execution_count": 58,
   "metadata": {
    "collapsed": false
   },
   "outputs": [
    {
     "data": {
      "text/plain": [
       "array([ '/home/jaafar/CloudStation/Thesis/MyDocuments/Implementation and Testbed/TNSM/data/Cleaned/homestead-mem.free_mb.csv ',\n",
       "       5650200, 2007.4879036018974, 2446.5005510061164], dtype=object)"
      ]
     },
     "execution_count": 58,
     "metadata": {},
     "output_type": "execute_result"
    }
   ],
   "source": [
    "laccess_dframe.iloc[502].values"
   ]
  },
  {
   "cell_type": "code",
   "execution_count": 59,
   "metadata": {
    "collapsed": false
   },
   "outputs": [
    {
     "data": {
      "text/html": [
       "<div>\n",
       "<table border=\"1\" class=\"dataframe\">\n",
       "  <thead>\n",
       "    <tr style=\"text-align: right;\">\n",
       "      <th></th>\n",
       "      <th>size</th>\n",
       "      <th>laccess</th>\n",
       "      <th>lmodify</th>\n",
       "    </tr>\n",
       "  </thead>\n",
       "  <tbody>\n",
       "    <tr>\n",
       "      <th>size</th>\n",
       "      <td>1.000000</td>\n",
       "      <td>-0.044625</td>\n",
       "      <td>-0.015125</td>\n",
       "    </tr>\n",
       "    <tr>\n",
       "      <th>laccess</th>\n",
       "      <td>-0.044625</td>\n",
       "      <td>1.000000</td>\n",
       "      <td>0.177873</td>\n",
       "    </tr>\n",
       "    <tr>\n",
       "      <th>lmodify</th>\n",
       "      <td>-0.015125</td>\n",
       "      <td>0.177873</td>\n",
       "      <td>1.000000</td>\n",
       "    </tr>\n",
       "  </tbody>\n",
       "</table>\n",
       "</div>"
      ],
      "text/plain": [
       "             size   laccess   lmodify\n",
       " size    1.000000 -0.044625 -0.015125\n",
       "laccess -0.044625  1.000000  0.177873\n",
       "lmodify -0.015125  0.177873  1.000000"
      ]
     },
     "execution_count": 59,
     "metadata": {},
     "output_type": "execute_result"
    }
   ],
   "source": [
    "laccess_dframe.corr()"
   ]
  },
  {
   "cell_type": "code",
   "execution_count": 60,
   "metadata": {
    "collapsed": true
   },
   "outputs": [],
   "source": [
    "import seaborn as sns"
   ]
  },
  {
   "cell_type": "code",
   "execution_count": 89,
   "metadata": {
    "collapsed": false,
    "scrolled": true
   },
   "outputs": [
    {
     "data": {
      "text/html": [
       "<div>\n",
       "<table border=\"1\" class=\"dataframe\">\n",
       "  <thead>\n",
       "    <tr style=\"text-align: right;\">\n",
       "      <th></th>\n",
       "      <th>size</th>\n",
       "      <th>laccess</th>\n",
       "    </tr>\n",
       "  </thead>\n",
       "  <tbody>\n",
       "    <tr>\n",
       "      <th>5</th>\n",
       "      <td>196501318</td>\n",
       "      <td>3.487904</td>\n",
       "    </tr>\n",
       "    <tr>\n",
       "      <th>25</th>\n",
       "      <td>25165824</td>\n",
       "      <td>3.487904</td>\n",
       "    </tr>\n",
       "    <tr>\n",
       "      <th>29</th>\n",
       "      <td>20816055</td>\n",
       "      <td>3.487904</td>\n",
       "    </tr>\n",
       "    <tr>\n",
       "      <th>38</th>\n",
       "      <td>14523640</td>\n",
       "      <td>3.487904</td>\n",
       "    </tr>\n",
       "    <tr>\n",
       "      <th>42</th>\n",
       "      <td>13730259</td>\n",
       "      <td>3.487904</td>\n",
       "    </tr>\n",
       "    <tr>\n",
       "      <th>113</th>\n",
       "      <td>5884635</td>\n",
       "      <td>3.487904</td>\n",
       "    </tr>\n",
       "    <tr>\n",
       "      <th>431</th>\n",
       "      <td>5070848</td>\n",
       "      <td>3.487904</td>\n",
       "    </tr>\n",
       "    <tr>\n",
       "      <th>432</th>\n",
       "      <td>4994497</td>\n",
       "      <td>3.487904</td>\n",
       "    </tr>\n",
       "    <tr>\n",
       "      <th>474</th>\n",
       "      <td>3121152</td>\n",
       "      <td>3.487904</td>\n",
       "    </tr>\n",
       "    <tr>\n",
       "      <th>481</th>\n",
       "      <td>2883584</td>\n",
       "      <td>3.487904</td>\n",
       "    </tr>\n",
       "    <tr>\n",
       "      <th>482</th>\n",
       "      <td>2883584</td>\n",
       "      <td>3.487904</td>\n",
       "    </tr>\n",
       "    <tr>\n",
       "      <th>483</th>\n",
       "      <td>2883584</td>\n",
       "      <td>3.487904</td>\n",
       "    </tr>\n",
       "    <tr>\n",
       "      <th>501</th>\n",
       "      <td>2285731</td>\n",
       "      <td>3.487904</td>\n",
       "    </tr>\n",
       "    <tr>\n",
       "      <th>503</th>\n",
       "      <td>2228224</td>\n",
       "      <td>3.487904</td>\n",
       "    </tr>\n",
       "    <tr>\n",
       "      <th>543</th>\n",
       "      <td>2070350</td>\n",
       "      <td>3.487904</td>\n",
       "    </tr>\n",
       "    <tr>\n",
       "      <th>569</th>\n",
       "      <td>1914385</td>\n",
       "      <td>3.487904</td>\n",
       "    </tr>\n",
       "    <tr>\n",
       "      <th>572</th>\n",
       "      <td>1905888</td>\n",
       "      <td>3.487904</td>\n",
       "    </tr>\n",
       "    <tr>\n",
       "      <th>690</th>\n",
       "      <td>1419636</td>\n",
       "      <td>3.487904</td>\n",
       "    </tr>\n",
       "    <tr>\n",
       "      <th>719</th>\n",
       "      <td>1343488</td>\n",
       "      <td>3.487904</td>\n",
       "    </tr>\n",
       "    <tr>\n",
       "      <th>720</th>\n",
       "      <td>1343488</td>\n",
       "      <td>3.487904</td>\n",
       "    </tr>\n",
       "    <tr>\n",
       "      <th>721</th>\n",
       "      <td>1343488</td>\n",
       "      <td>3.487904</td>\n",
       "    </tr>\n",
       "    <tr>\n",
       "      <th>754</th>\n",
       "      <td>1227000</td>\n",
       "      <td>3.487904</td>\n",
       "    </tr>\n",
       "    <tr>\n",
       "      <th>796</th>\n",
       "      <td>1172334</td>\n",
       "      <td>3.487904</td>\n",
       "    </tr>\n",
       "    <tr>\n",
       "      <th>37</th>\n",
       "      <td>15593917</td>\n",
       "      <td>4.487904</td>\n",
       "    </tr>\n",
       "    <tr>\n",
       "      <th>174</th>\n",
       "      <td>5631492</td>\n",
       "      <td>4.487904</td>\n",
       "    </tr>\n",
       "    <tr>\n",
       "      <th>463</th>\n",
       "      <td>3428492</td>\n",
       "      <td>4.487904</td>\n",
       "    </tr>\n",
       "    <tr>\n",
       "      <th>492</th>\n",
       "      <td>2492416</td>\n",
       "      <td>4.487904</td>\n",
       "    </tr>\n",
       "    <tr>\n",
       "      <th>562</th>\n",
       "      <td>1978072</td>\n",
       "      <td>4.487904</td>\n",
       "    </tr>\n",
       "    <tr>\n",
       "      <th>587</th>\n",
       "      <td>1810775</td>\n",
       "      <td>4.487904</td>\n",
       "    </tr>\n",
       "    <tr>\n",
       "      <th>15</th>\n",
       "      <td>39083888</td>\n",
       "      <td>5.487904</td>\n",
       "    </tr>\n",
       "    <tr>\n",
       "      <th>...</th>\n",
       "      <td>...</td>\n",
       "      <td>...</td>\n",
       "    </tr>\n",
       "    <tr>\n",
       "      <th>516</th>\n",
       "      <td>2145244</td>\n",
       "      <td>5635.487904</td>\n",
       "    </tr>\n",
       "    <tr>\n",
       "      <th>528</th>\n",
       "      <td>2097232</td>\n",
       "      <td>5635.487904</td>\n",
       "    </tr>\n",
       "    <tr>\n",
       "      <th>529</th>\n",
       "      <td>2097232</td>\n",
       "      <td>5635.487904</td>\n",
       "    </tr>\n",
       "    <tr>\n",
       "      <th>530</th>\n",
       "      <td>2097232</td>\n",
       "      <td>5635.487904</td>\n",
       "    </tr>\n",
       "    <tr>\n",
       "      <th>531</th>\n",
       "      <td>2097232</td>\n",
       "      <td>5635.487904</td>\n",
       "    </tr>\n",
       "    <tr>\n",
       "      <th>532</th>\n",
       "      <td>2097232</td>\n",
       "      <td>5635.487904</td>\n",
       "    </tr>\n",
       "    <tr>\n",
       "      <th>533</th>\n",
       "      <td>2097232</td>\n",
       "      <td>5635.487904</td>\n",
       "    </tr>\n",
       "    <tr>\n",
       "      <th>534</th>\n",
       "      <td>2097232</td>\n",
       "      <td>5635.487904</td>\n",
       "    </tr>\n",
       "    <tr>\n",
       "      <th>535</th>\n",
       "      <td>2097232</td>\n",
       "      <td>5635.487904</td>\n",
       "    </tr>\n",
       "    <tr>\n",
       "      <th>546</th>\n",
       "      <td>2067305</td>\n",
       "      <td>5635.487904</td>\n",
       "    </tr>\n",
       "    <tr>\n",
       "      <th>547</th>\n",
       "      <td>2067305</td>\n",
       "      <td>5635.487904</td>\n",
       "    </tr>\n",
       "    <tr>\n",
       "      <th>558</th>\n",
       "      <td>2007905</td>\n",
       "      <td>5635.487904</td>\n",
       "    </tr>\n",
       "    <tr>\n",
       "      <th>559</th>\n",
       "      <td>2007905</td>\n",
       "      <td>5635.487904</td>\n",
       "    </tr>\n",
       "    <tr>\n",
       "      <th>565</th>\n",
       "      <td>1938262</td>\n",
       "      <td>5635.487904</td>\n",
       "    </tr>\n",
       "    <tr>\n",
       "      <th>566</th>\n",
       "      <td>1938262</td>\n",
       "      <td>5635.487904</td>\n",
       "    </tr>\n",
       "    <tr>\n",
       "      <th>608</th>\n",
       "      <td>1688458</td>\n",
       "      <td>5635.487904</td>\n",
       "    </tr>\n",
       "    <tr>\n",
       "      <th>609</th>\n",
       "      <td>1688458</td>\n",
       "      <td>5635.487904</td>\n",
       "    </tr>\n",
       "    <tr>\n",
       "      <th>610</th>\n",
       "      <td>1681680</td>\n",
       "      <td>5635.487904</td>\n",
       "    </tr>\n",
       "    <tr>\n",
       "      <th>678</th>\n",
       "      <td>1469424</td>\n",
       "      <td>5635.487904</td>\n",
       "    </tr>\n",
       "    <tr>\n",
       "      <th>679</th>\n",
       "      <td>1469424</td>\n",
       "      <td>5635.487904</td>\n",
       "    </tr>\n",
       "    <tr>\n",
       "      <th>727</th>\n",
       "      <td>1334853</td>\n",
       "      <td>5635.487904</td>\n",
       "    </tr>\n",
       "    <tr>\n",
       "      <th>728</th>\n",
       "      <td>1334853</td>\n",
       "      <td>5635.487904</td>\n",
       "    </tr>\n",
       "    <tr>\n",
       "      <th>742</th>\n",
       "      <td>1271232</td>\n",
       "      <td>5635.487904</td>\n",
       "    </tr>\n",
       "    <tr>\n",
       "      <th>743</th>\n",
       "      <td>1271232</td>\n",
       "      <td>5635.487904</td>\n",
       "    </tr>\n",
       "    <tr>\n",
       "      <th>762</th>\n",
       "      <td>1204420</td>\n",
       "      <td>5635.487904</td>\n",
       "    </tr>\n",
       "    <tr>\n",
       "      <th>763</th>\n",
       "      <td>1204420</td>\n",
       "      <td>5635.487904</td>\n",
       "    </tr>\n",
       "    <tr>\n",
       "      <th>795</th>\n",
       "      <td>1175940</td>\n",
       "      <td>5635.487904</td>\n",
       "    </tr>\n",
       "    <tr>\n",
       "      <th>710</th>\n",
       "      <td>1373839</td>\n",
       "      <td>5636.487904</td>\n",
       "    </tr>\n",
       "    <tr>\n",
       "      <th>614</th>\n",
       "      <td>1667839</td>\n",
       "      <td>5973.487904</td>\n",
       "    </tr>\n",
       "    <tr>\n",
       "      <th>502</th>\n",
       "      <td>2262637</td>\n",
       "      <td>5974.487904</td>\n",
       "    </tr>\n",
       "  </tbody>\n",
       "</table>\n",
       "<p>1000 rows × 2 columns</p>\n",
       "</div>"
      ],
      "text/plain": [
       "          size      laccess\n",
       "5    196501318     3.487904\n",
       "25    25165824     3.487904\n",
       "29    20816055     3.487904\n",
       "38    14523640     3.487904\n",
       "42    13730259     3.487904\n",
       "113    5884635     3.487904\n",
       "431    5070848     3.487904\n",
       "432    4994497     3.487904\n",
       "474    3121152     3.487904\n",
       "481    2883584     3.487904\n",
       "482    2883584     3.487904\n",
       "483    2883584     3.487904\n",
       "501    2285731     3.487904\n",
       "503    2228224     3.487904\n",
       "543    2070350     3.487904\n",
       "569    1914385     3.487904\n",
       "572    1905888     3.487904\n",
       "690    1419636     3.487904\n",
       "719    1343488     3.487904\n",
       "720    1343488     3.487904\n",
       "721    1343488     3.487904\n",
       "754    1227000     3.487904\n",
       "796    1172334     3.487904\n",
       "37    15593917     4.487904\n",
       "174    5631492     4.487904\n",
       "463    3428492     4.487904\n",
       "492    2492416     4.487904\n",
       "562    1978072     4.487904\n",
       "587    1810775     4.487904\n",
       "15    39083888     5.487904\n",
       "..         ...          ...\n",
       "516    2145244  5635.487904\n",
       "528    2097232  5635.487904\n",
       "529    2097232  5635.487904\n",
       "530    2097232  5635.487904\n",
       "531    2097232  5635.487904\n",
       "532    2097232  5635.487904\n",
       "533    2097232  5635.487904\n",
       "534    2097232  5635.487904\n",
       "535    2097232  5635.487904\n",
       "546    2067305  5635.487904\n",
       "547    2067305  5635.487904\n",
       "558    2007905  5635.487904\n",
       "559    2007905  5635.487904\n",
       "565    1938262  5635.487904\n",
       "566    1938262  5635.487904\n",
       "608    1688458  5635.487904\n",
       "609    1688458  5635.487904\n",
       "610    1681680  5635.487904\n",
       "678    1469424  5635.487904\n",
       "679    1469424  5635.487904\n",
       "727    1334853  5635.487904\n",
       "728    1334853  5635.487904\n",
       "742    1271232  5635.487904\n",
       "743    1271232  5635.487904\n",
       "762    1204420  5635.487904\n",
       "763    1204420  5635.487904\n",
       "795    1175940  5635.487904\n",
       "710    1373839  5636.487904\n",
       "614    1667839  5973.487904\n",
       "502    2262637  5974.487904\n",
       "\n",
       "[1000 rows x 2 columns]"
      ]
     },
     "execution_count": 89,
     "metadata": {},
     "output_type": "execute_result"
    }
   ],
   "source": [
    "laccess_dframe.iloc[:,1:3]"
   ]
  },
  {
   "cell_type": "code",
   "execution_count": 102,
   "metadata": {
    "collapsed": false
   },
   "outputs": [
    {
     "data": {
      "text/plain": [
       "<matplotlib.axes._subplots.AxesSubplot at 0x7fed2364b1d0>"
      ]
     },
     "execution_count": 102,
     "metadata": {},
     "output_type": "execute_result"
    },
    {
     "data": {
      "image/png": "[encoded data removed]",
      "text/plain": [
       "<matplotlib.figure.Figure at 0x7fed286753d0>"
      ]
     },
     "metadata": {},
     "output_type": "display_data"
    }
   ],
   "source": [
    "sns.heatmap(ldframe.sort_values(by=' size',ascending=False).iloc[1:40,1:4].corr())"
   ]
  },
  {
   "cell_type": "code",
   "execution_count": 134,
   "metadata": {
    "collapsed": false
   },
   "outputs": [
    {
     "name": "stdout",
     "output_type": "stream",
     "text": [
      "'/usr/local/bin:/opt/ansible/bin:/usr/local/bin:/bin:/usr/bin:/usr/local/sbin:/usr/sbin:/sbin:'\n",
      "Join two or more pathname components, inserting '/' as needed.\n",
      "    If any component is an absolute path, all previous path components\n",
      "    will be discarded.  An empty last part will result in a path that\n",
      "    ends with a separator.\n"
     ]
    }
   ],
   "source": [
    "import os\n",
    "from pprint import pprint\n",
    "\n",
    "stat = os.stat(os.getcwd())\n",
    "\n",
    "pprint(os.environ['PATH'])\n",
    "\n",
    "print os.path.join.__doc__"
   ]
  },
  {
   "cell_type": "code",
   "execution_count": 145,
   "metadata": {
    "collapsed": false
   },
   "outputs": [
    {
     "data": {
      "text/html": [
       "<div>\n",
       "<table border=\"1\" class=\"dataframe\">\n",
       "  <thead>\n",
       "    <tr style=\"text-align: right;\">\n",
       "      <th></th>\n",
       "      <th>size</th>\n",
       "      <th>laccess</th>\n",
       "      <th>lmodify</th>\n",
       "    </tr>\n",
       "  </thead>\n",
       "  <tbody>\n",
       "    <tr>\n",
       "      <th>count</th>\n",
       "      <td>1.000000e+03</td>\n",
       "      <td>1000.000000</td>\n",
       "      <td>1000.000000</td>\n",
       "    </tr>\n",
       "    <tr>\n",
       "      <th>mean</th>\n",
       "      <td>8.134401e+06</td>\n",
       "      <td>1861.066904</td>\n",
       "      <td>3673.065551</td>\n",
       "    </tr>\n",
       "    <tr>\n",
       "      <th>std</th>\n",
       "      <td>6.312550e+07</td>\n",
       "      <td>1724.556853</td>\n",
       "      <td>10673.902185</td>\n",
       "    </tr>\n",
       "    <tr>\n",
       "      <th>min</th>\n",
       "      <td>1.130904e+06</td>\n",
       "      <td>3.487904</td>\n",
       "      <td>3.500551</td>\n",
       "    </tr>\n",
       "    <tr>\n",
       "      <th>5%</th>\n",
       "      <td>1.140798e+06</td>\n",
       "      <td>18.487904</td>\n",
       "      <td>30.500551</td>\n",
       "    </tr>\n",
       "    <tr>\n",
       "      <th>10%</th>\n",
       "      <td>1.140798e+06</td>\n",
       "      <td>141.487904</td>\n",
       "      <td>142.500551</td>\n",
       "    </tr>\n",
       "    <tr>\n",
       "      <th>20%</th>\n",
       "      <td>1.160812e+06</td>\n",
       "      <td>246.887904</td>\n",
       "      <td>1444.500551</td>\n",
       "    </tr>\n",
       "    <tr>\n",
       "      <th>50%</th>\n",
       "      <td>2.334401e+06</td>\n",
       "      <td>2007.487904</td>\n",
       "      <td>2446.500551</td>\n",
       "    </tr>\n",
       "    <tr>\n",
       "      <th>95%</th>\n",
       "      <td>1.072912e+07</td>\n",
       "      <td>5635.487904</td>\n",
       "      <td>8900.500551</td>\n",
       "    </tr>\n",
       "    <tr>\n",
       "      <th>max</th>\n",
       "      <td>1.855835e+09</td>\n",
       "      <td>5974.487904</td>\n",
       "      <td>327685.500551</td>\n",
       "    </tr>\n",
       "  </tbody>\n",
       "</table>\n",
       "</div>"
      ],
      "text/plain": [
       "               size      laccess        lmodify\n",
       "count  1.000000e+03  1000.000000    1000.000000\n",
       "mean   8.134401e+06  1861.066904    3673.065551\n",
       "std    6.312550e+07  1724.556853   10673.902185\n",
       "min    1.130904e+06     3.487904       3.500551\n",
       "5%     1.140798e+06    18.487904      30.500551\n",
       "10%    1.140798e+06   141.487904     142.500551\n",
       "20%    1.160812e+06   246.887904    1444.500551\n",
       "50%    2.334401e+06  2007.487904    2446.500551\n",
       "95%    1.072912e+07  5635.487904    8900.500551\n",
       "max    1.855835e+09  5974.487904  327685.500551"
      ]
     },
     "execution_count": 145,
     "metadata": {},
     "output_type": "execute_result"
    }
   ],
   "source": [
    "ldframe.describe(percentiles=[.05,.10,.20,.95])"
   ]
  },
  {
   "cell_type": "code",
   "execution_count": null,
   "metadata": {
    "collapsed": true
   },
   "outputs": [],
   "source": []
  }
 ],
 "metadata": {
  "kernelspec": {
   "display_name": "Python 2",
   "language": "python",
   "name": "python2"
  },
  "language_info": {
   "codemirror_mode": {
    "name": "ipython",
    "version": 2
   },
   "file_extension": ".py",
   "mimetype": "text/x-python",
   "name": "python",
   "nbconvert_exporter": "python",
   "pygments_lexer": "ipython2",
   "version": "2.7.6"
  }
 },
 "nbformat": 4,
 "nbformat_minor": 1
}

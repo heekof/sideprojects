{
 "cells": [
  {
   "cell_type": "code",
   "execution_count": 23,
   "metadata": {
    "collapsed": false
   },
   "outputs": [],
   "source": [
    "import numpy as np\n",
    "import pandas as pd\n",
    "from datetime import datetime\n"
   ]
  },
  {
   "cell_type": "code",
   "execution_count": 4,
   "metadata": {
    "collapsed": true
   },
   "outputs": [],
   "source": [
    "dframe = pd.read_csv(\"datafiles.csv\", sep=\";\")"
   ]
  },
  {
   "cell_type": "code",
   "execution_count": 20,
   "metadata": {
    "collapsed": false
   },
   "outputs": [
    {
     "data": {
      "text/html": [
       "<div>\n",
       "<table border=\"1\" class=\"dataframe\">\n",
       "  <thead>\n",
       "    <tr style=\"text-align: right;\">\n",
       "      <th></th>\n",
       "      <th>file path</th>\n",
       "      <th>size</th>\n",
       "      <th>last time accessed</th>\n",
       "      <th>last time modified</th>\n",
       "    </tr>\n",
       "  </thead>\n",
       "  <tbody>\n",
       "    <tr>\n",
       "      <th>0</th>\n",
       "      <td>/home/jaafar/Downloads/FootWorship_s01_ShonaRi...</td>\n",
       "      <td>1855834741</td>\n",
       "      <td>1.494709e+09</td>\n",
       "      <td>1.493560e+09</td>\n",
       "    </tr>\n",
       "    <tr>\n",
       "      <th>1</th>\n",
       "      <td>/home/jaafar/Downloads/57ce4c701798d.mp4</td>\n",
       "      <td>349031429</td>\n",
       "      <td>1.494709e+09</td>\n",
       "      <td>1.493564e+09</td>\n",
       "    </tr>\n",
       "    <tr>\n",
       "      <th>2</th>\n",
       "      <td>/home/jaafar/Downloads/57f8fa1bd0674.mp4</td>\n",
       "      <td>332701690</td>\n",
       "      <td>1.495140e+09</td>\n",
       "      <td>1.493565e+09</td>\n",
       "    </tr>\n",
       "    <tr>\n",
       "      <th>3</th>\n",
       "      <td>/home/jaafar/Downloads/57ee48e54d50a.mp4</td>\n",
       "      <td>327904369</td>\n",
       "      <td>1.494709e+09</td>\n",
       "      <td>1.493564e+09</td>\n",
       "    </tr>\n",
       "    <tr>\n",
       "      <th>4</th>\n",
       "      <td>/home/jaafar/CloudStation/Thesis/MyDocuments/I...</td>\n",
       "      <td>248563439</td>\n",
       "      <td>1.489866e+09</td>\n",
       "      <td>1.489592e+09</td>\n",
       "    </tr>\n",
       "    <tr>\n",
       "      <th>5</th>\n",
       "      <td>/home/jaafar/.PyCharmCE2016.3/system/caches/co...</td>\n",
       "      <td>196501318</td>\n",
       "      <td>1.495186e+09</td>\n",
       "      <td>1.495186e+09</td>\n",
       "    </tr>\n",
       "    <tr>\n",
       "      <th>6</th>\n",
       "      <td>/home/jaafar/Downloads/[ Torrent9.info ] The.B...</td>\n",
       "      <td>184442298</td>\n",
       "      <td>1.494708e+09</td>\n",
       "      <td>1.493501e+09</td>\n",
       "    </tr>\n",
       "    <tr>\n",
       "      <th>7</th>\n",
       "      <td>/home/jaafar/Downloads/[ Torrent9.info ] The.B...</td>\n",
       "      <td>184199680</td>\n",
       "      <td>1.494710e+09</td>\n",
       "      <td>1.494710e+09</td>\n",
       "    </tr>\n",
       "    <tr>\n",
       "      <th>8</th>\n",
       "      <td>/home/jaafar/Downloads/[ Torrent9.info ] The.B...</td>\n",
       "      <td>168969204</td>\n",
       "      <td>1.494708e+09</td>\n",
       "      <td>1.494708e+09</td>\n",
       "    </tr>\n",
       "    <tr>\n",
       "      <th>9</th>\n",
       "      <td>/home/jaafar/Downloads/change-your-mind-change...</td>\n",
       "      <td>114202474</td>\n",
       "      <td>1.494709e+09</td>\n",
       "      <td>1.493507e+09</td>\n",
       "    </tr>\n",
       "  </tbody>\n",
       "</table>\n",
       "</div>"
      ],
      "text/plain": [
       "                                          file path         size  \\\n",
       "0  /home/jaafar/Downloads/FootWorship_s01_ShonaRi...  1855834741   \n",
       "1          /home/jaafar/Downloads/57ce4c701798d.mp4    349031429   \n",
       "2          /home/jaafar/Downloads/57f8fa1bd0674.mp4    332701690   \n",
       "3          /home/jaafar/Downloads/57ee48e54d50a.mp4    327904369   \n",
       "4  /home/jaafar/CloudStation/Thesis/MyDocuments/I...   248563439   \n",
       "5  /home/jaafar/.PyCharmCE2016.3/system/caches/co...   196501318   \n",
       "6  /home/jaafar/Downloads/[ Torrent9.info ] The.B...   184442298   \n",
       "7  /home/jaafar/Downloads/[ Torrent9.info ] The.B...   184199680   \n",
       "8  /home/jaafar/Downloads/[ Torrent9.info ] The.B...   168969204   \n",
       "9  /home/jaafar/Downloads/change-your-mind-change...   114202474   \n",
       "\n",
       "    last time accessed   last time modified  \n",
       "0         1.494709e+09         1.493560e+09  \n",
       "1         1.494709e+09         1.493564e+09  \n",
       "2         1.495140e+09         1.493565e+09  \n",
       "3         1.494709e+09         1.493564e+09  \n",
       "4         1.489866e+09         1.489592e+09  \n",
       "5         1.495186e+09         1.495186e+09  \n",
       "6         1.494708e+09         1.493501e+09  \n",
       "7         1.494710e+09         1.494710e+09  \n",
       "8         1.494708e+09         1.494708e+09  \n",
       "9         1.494709e+09         1.493507e+09  "
      ]
     },
     "execution_count": 20,
     "metadata": {},
     "output_type": "execute_result"
    }
   ],
   "source": [
    "dframe.head(10)"
   ]
  },
  {
   "cell_type": "code",
   "execution_count": 8,
   "metadata": {
    "collapsed": false
   },
   "outputs": [
    {
     "data": {
      "text/plain": [
       "'\\nCHange Last time accessed into (hours - current hours)\\n\\n'"
      ]
     },
     "execution_count": 8,
     "metadata": {},
     "output_type": "execute_result"
    }
   ],
   "source": [
    "'''\n",
    "CHange Last time accessed into (hours - current hours)\n",
    "\n",
    "'''"
   ]
  },
  {
   "cell_type": "code",
   "execution_count": 26,
   "metadata": {
    "collapsed": false,
    "scrolled": true
   },
   "outputs": [
    {
     "data": {
      "text/plain": [
       "0      2017-05-13 22:58:34\n",
       "1      2017-05-13 22:58:34\n",
       "2      2017-05-18 22:34:52\n",
       "3      2017-05-13 22:58:33\n",
       "4      2017-03-18 20:35:51\n",
       "5      2017-05-19 11:27:11\n",
       "6      2017-05-13 22:32:44\n",
       "7      2017-05-13 23:07:48\n",
       "8      2017-05-13 22:32:51\n",
       "9      2017-05-13 22:58:35\n",
       "10     2017-02-06 10:02:11\n",
       "11     2017-02-17 15:09:12\n",
       "12     2017-03-12 17:44:44\n",
       "13     2016-11-29 17:42:01\n",
       "14     2016-09-26 19:12:03\n",
       "15     2017-05-19 09:18:26\n",
       "16     2016-10-01 20:42:31\n",
       "17     2016-09-26 19:12:08\n",
       "18     2016-10-01 20:42:32\n",
       "19     2016-09-26 19:12:02\n",
       "20     2016-09-26 19:12:07\n",
       "21     2016-10-01 20:41:03\n",
       "22     2016-09-26 19:12:05\n",
       "23     2016-09-26 21:39:48\n",
       "24     2016-09-26 21:39:48\n",
       "25     2017-05-19 11:24:24\n",
       "26     2017-05-19 09:18:53\n",
       "27     2016-09-26 19:11:56\n",
       "28     2016-09-26 19:11:56\n",
       "29     2017-05-19 11:25:12\n",
       "              ...         \n",
       "970    2017-02-24 22:46:24\n",
       "971    2017-02-24 22:46:23\n",
       "972    2017-02-24 22:39:24\n",
       "973    2017-02-24 22:39:15\n",
       "974    2017-02-24 22:39:12\n",
       "975    2017-02-24 22:39:10\n",
       "976    2017-02-24 22:38:51\n",
       "977    2017-02-24 22:38:36\n",
       "978    2017-02-24 22:37:07\n",
       "979    2017-02-24 22:37:00\n",
       "980    2017-02-24 22:36:52\n",
       "981    2017-02-24 22:36:08\n",
       "982    2017-02-24 22:35:54\n",
       "983    2017-02-24 22:35:16\n",
       "984    2017-02-24 22:33:11\n",
       "985    2017-02-24 22:33:09\n",
       "986    2017-02-24 22:33:01\n",
       "987    2017-02-24 22:32:56\n",
       "988    2017-02-24 22:31:05\n",
       "989    2017-02-24 22:30:28\n",
       "990    2017-02-24 22:29:07\n",
       "991    2017-02-24 22:28:44\n",
       "992    2017-02-24 22:27:33\n",
       "993    2017-02-24 22:26:38\n",
       "994    2017-02-24 22:26:08\n",
       "995    2017-02-24 22:25:59\n",
       "996    2017-02-24 22:25:14\n",
       "997    2017-02-24 22:24:22\n",
       "998    2017-02-24 22:24:00\n",
       "999    2017-02-24 22:23:43\n",
       "Name:  last time accessed, dtype: object"
      ]
     },
     "execution_count": 26,
     "metadata": {},
     "output_type": "execute_result"
    }
   ],
   "source": [
    "dframe[\" last time accessed\"].apply(lambda x: datetime.fromtimestamp(int(x)).strftime('%Y-%m-%d %H:%M:%S'))"
   ]
  },
  {
   "cell_type": "code",
   "execution_count": 11,
   "metadata": {
    "collapsed": false
   },
   "outputs": [
    {
     "data": {
      "text/plain": [
       "Index([u'file path ', u' size', u' last time accessed',\n",
       "       u' last time modified'],\n",
       "      dtype='object')"
      ]
     },
     "execution_count": 11,
     "metadata": {},
     "output_type": "execute_result"
    }
   ],
   "source": [
    "dframe.columns"
   ]
  },
  {
   "cell_type": "code",
   "execution_count": 21,
   "metadata": {
    "collapsed": false
   },
   "outputs": [
    {
     "data": {
      "text/plain": [
       "0      1.494709e+09\n",
       "1      1.494709e+09\n",
       "2      1.495140e+09\n",
       "3      1.494709e+09\n",
       "4      1.489866e+09\n",
       "5      1.495186e+09\n",
       "6      1.494708e+09\n",
       "7      1.494710e+09\n",
       "8      1.494708e+09\n",
       "9      1.494709e+09\n",
       "10     1.486372e+09\n",
       "11     1.487341e+09\n",
       "12     1.489337e+09\n",
       "13     1.480438e+09\n",
       "14     1.474910e+09\n",
       "15     1.495178e+09\n",
       "16     1.475347e+09\n",
       "17     1.474910e+09\n",
       "18     1.475347e+09\n",
       "19     1.474910e+09\n",
       "20     1.474910e+09\n",
       "21     1.475347e+09\n",
       "22     1.474910e+09\n",
       "23     1.474919e+09\n",
       "24     1.474919e+09\n",
       "25     1.495186e+09\n",
       "26     1.495178e+09\n",
       "27     1.474910e+09\n",
       "28     1.474910e+09\n",
       "29     1.495186e+09\n",
       "           ...     \n",
       "970    1.487973e+09\n",
       "971    1.487973e+09\n",
       "972    1.487972e+09\n",
       "973    1.487972e+09\n",
       "974    1.487972e+09\n",
       "975    1.487972e+09\n",
       "976    1.487972e+09\n",
       "977    1.487972e+09\n",
       "978    1.487972e+09\n",
       "979    1.487972e+09\n",
       "980    1.487972e+09\n",
       "981    1.487972e+09\n",
       "982    1.487972e+09\n",
       "983    1.487972e+09\n",
       "984    1.487972e+09\n",
       "985    1.487972e+09\n",
       "986    1.487972e+09\n",
       "987    1.487972e+09\n",
       "988    1.487972e+09\n",
       "989    1.487972e+09\n",
       "990    1.487972e+09\n",
       "991    1.487972e+09\n",
       "992    1.487972e+09\n",
       "993    1.487972e+09\n",
       "994    1.487972e+09\n",
       "995    1.487972e+09\n",
       "996    1.487972e+09\n",
       "997    1.487971e+09\n",
       "998    1.487971e+09\n",
       "999    1.487971e+09\n",
       "Name:  last time accessed, dtype: float64"
      ]
     },
     "execution_count": 21,
     "metadata": {},
     "output_type": "execute_result"
    }
   ],
   "source": [
    "dframe[' last time accessed']"
   ]
  },
  {
   "cell_type": "code",
   "execution_count": 27,
   "metadata": {
    "collapsed": false
   },
   "outputs": [
    {
     "name": "stdout",
     "output_type": "stream",
     "text": [
      "datetime.datetime(2008, 11, 12, 22, 59, 27, 595983)\n"
     ]
    }
   ],
   "source": [
    "# timestamp to datetime object in local time\n",
    "timestamp = 1226527167.595983\n",
    "dt_obj = datetime.fromtimestamp(timestamp)\n",
    "print repr(dt_obj)"
   ]
  },
  {
   "cell_type": "code",
   "execution_count": null,
   "metadata": {
    "collapsed": true
   },
   "outputs": [],
   "source": []
  }
 ],
 "metadata": {
  "kernelspec": {
   "display_name": "Python 2",
   "language": "python",
   "name": "python2"
  },
  "language_info": {
   "codemirror_mode": {
    "name": "ipython",
    "version": 2
   },
   "file_extension": ".py",
   "mimetype": "text/x-python",
   "name": "python",
   "nbconvert_exporter": "python",
   "pygments_lexer": "ipython2",
   "version": "2.7.6"
  }
 },
 "nbformat": 4,
 "nbformat_minor": 1
}

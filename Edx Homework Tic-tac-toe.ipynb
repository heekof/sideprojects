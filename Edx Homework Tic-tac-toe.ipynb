{
 "cells": [
  {
   "cell_type": "markdown",
   "metadata": {},
   "source": [
    "\n",
    "For our tic-tac-toe board, we will use a numpy array with dimension 3 by 3. \n",
    "Make a function create_board() that creates such a board, with values of integers 0.\n",
    "Call create_board(), and store this as board\n"
   ]
  },
  {
   "cell_type": "code",
   "execution_count": 2,
   "metadata": {
    "collapsed": true
   },
   "outputs": [],
   "source": [
    "import numpy as np"
   ]
  },
  {
   "cell_type": "code",
   "execution_count": 3,
   "metadata": {
    "collapsed": true
   },
   "outputs": [],
   "source": [
    "def create_board():\n",
    "    return np.array([[0,0,0],[0,0,0],[0,0,0]])\n"
   ]
  },
  {
   "cell_type": "code",
   "execution_count": 5,
   "metadata": {
    "collapsed": false
   },
   "outputs": [],
   "source": [
    "board = create_board()"
   ]
  },
  {
   "cell_type": "markdown",
   "metadata": {},
   "source": [
    "\n",
    "    Players 1 and 2 will take turns changing values of this array from a 0 to a 1 or 2, indicating the number of the player who places there. Create a function place(board, player, position) with player being the current player (an integer 1 or 2), and position a tuple of length 2 specifying a desired location to place their marker. Only allow the current player to place a piece on the board (change the board position to their number) if that position is empty (zero).\n",
    "    Use create_board() to store a board as board, and use place to have Player 1 place a piece on spot (0, 0).\n"
   ]
  },
  {
   "cell_type": "code",
   "execution_count": 18,
   "metadata": {
    "collapsed": true
   },
   "outputs": [],
   "source": [
    "def place(board, player, position):\n",
    "    board[position] = player\n"
   ]
  },
  {
   "cell_type": "code",
   "execution_count": 87,
   "metadata": {
    "collapsed": true
   },
   "outputs": [],
   "source": [
    "place(board,1,(2,2))"
   ]
  },
  {
   "cell_type": "code",
   "execution_count": 88,
   "metadata": {
    "collapsed": false
   },
   "outputs": [
    {
     "data": {
      "text/plain": [
       "array([[1, 0, 0],\n",
       "       [0, 1, 0],\n",
       "       [0, 0, 1]])"
      ]
     },
     "execution_count": 88,
     "metadata": {},
     "output_type": "execute_result"
    }
   ],
   "source": [
    "board"
   ]
  },
  {
   "cell_type": "code",
   "execution_count": 23,
   "metadata": {
    "collapsed": false
   },
   "outputs": [],
   "source": [
    "board[(0,0)] = 0"
   ]
  },
  {
   "cell_type": "code",
   "execution_count": 24,
   "metadata": {
    "collapsed": false
   },
   "outputs": [
    {
     "data": {
      "text/plain": [
       "array([[0, 0, 0],\n",
       "       [0, 0, 0],\n",
       "       [0, 0, 0]])"
      ]
     },
     "execution_count": 24,
     "metadata": {},
     "output_type": "execute_result"
    }
   ],
   "source": [
    "board"
   ]
  },
  {
   "cell_type": "markdown",
   "metadata": {},
   "source": [
    "\n",
    "    Create a function possibilities(board) that returns a list of all positions (tuples) on the board that are not occupied (0). (Hint: numpy.where is a handy function that returns a list of indexes that meet a condition.)\n",
    "    board is already defined from previous exercises. Call possibilities(board) to see what it returns!\n"
   ]
  },
  {
   "cell_type": "code",
   "execution_count": 110,
   "metadata": {
    "collapsed": false
   },
   "outputs": [],
   "source": [
    "def possibilities(board):\n",
    "    res = []\n",
    "    for i in range(3):\n",
    "        for j in range(3):\n",
    "            if board[i,j] == 0:\n",
    "                res.append((i,j))\n",
    "    return res"
   ]
  },
  {
   "cell_type": "code",
   "execution_count": 85,
   "metadata": {
    "collapsed": false
   },
   "outputs": [
    {
     "data": {
      "text/plain": [
       "array([[1, 0, 0],\n",
       "       [0, 0, 0],\n",
       "       [0, 0, 0]])"
      ]
     },
     "execution_count": 85,
     "metadata": {},
     "output_type": "execute_result"
    }
   ],
   "source": [
    "board"
   ]
  },
  {
   "cell_type": "code",
   "execution_count": 89,
   "metadata": {
    "collapsed": false
   },
   "outputs": [
    {
     "data": {
      "text/plain": [
       "[(0, 1), (0, 2), (1, 0), (1, 2), (2, 0), (2, 1)]"
      ]
     },
     "execution_count": 89,
     "metadata": {},
     "output_type": "execute_result"
    }
   ],
   "source": [
    "possibilities(board)"
   ]
  },
  {
   "cell_type": "markdown",
   "metadata": {},
   "source": [
    "\n",
    "    Write a function random_place(board, player) that places a marker for the current player at random among all the available positions (those currently set to 0).\n",
    "    Find possible placements with possibilities(board).\n",
    "    Select one possible placement at random using random.choice(selection).\n",
    "    board is already defined from previous exercises. Call random_place(board, player) to place a random marker for Player 2, and store this as board to update its value.\n"
   ]
  },
  {
   "cell_type": "code",
   "execution_count": 112,
   "metadata": {
    "collapsed": false
   },
   "outputs": [],
   "source": [
    "import random\n",
    "\n",
    "def random_place(board, player):\n",
    "    positions = possibilities(board)\n",
    "    position = random.choice(positions)\n",
    "    place(board,player,position)\n",
    "\n",
    "random_place(board, 2)\n",
    "    "
   ]
  },
  {
   "cell_type": "code",
   "execution_count": 113,
   "metadata": {
    "collapsed": false
   },
   "outputs": [
    {
     "data": {
      "text/plain": [
       "array([[1, 0, 2],\n",
       "       [0, 1, 0],\n",
       "       [0, 0, 1]])"
      ]
     },
     "execution_count": 113,
     "metadata": {},
     "output_type": "execute_result"
    }
   ],
   "source": [
    "board"
   ]
  },
  {
   "cell_type": "markdown",
   "metadata": {},
   "source": [
    "\n",
    "    board is already defined from previous exercises. Use random_place(board, player) to place three pieces on board each for players 1 and 2.\n",
    "    Print board to see your result.\n"
   ]
  },
  {
   "cell_type": "code",
   "execution_count": 149,
   "metadata": {
    "collapsed": false
   },
   "outputs": [
    {
     "name": "stdout",
     "output_type": "stream",
     "text": [
      "[[1 0 0]\n",
      " [2 2 1]\n",
      " [0 2 1]]\n"
     ]
    }
   ],
   "source": [
    "board = create_board()\n",
    "for i in range(3):\n",
    "    for player in [1, 2]:\n",
    "        random_place(board,player)\n",
    "\n",
    "print(board)"
   ]
  },
  {
   "cell_type": "markdown",
   "metadata": {},
   "source": [
    "\n",
    "    Now that players may place their pieces, how will they know they've won? Make a function row_win(board, player) that takes the player (integer), and determines if any row consists of only their marker. Have it return True of this condition is met, and False otherwise.\n",
    "    board is already defined from previous exercises. Call row_win to check if Player 1 has a complete row.\n"
   ]
  },
  {
   "cell_type": "code",
   "execution_count": 230,
   "metadata": {
    "collapsed": true
   },
   "outputs": [],
   "source": [
    "\n",
    "def row_win(board, player):\n",
    "    result = [0,0,0]\n",
    "    for i in range(3):\n",
    "        for j in range(3):\n",
    "            if board[i,j] == player:\n",
    "                if i == 0 :\n",
    "                    result[i] += 1\n",
    "                elif i == 1:\n",
    "                    result[i] += 1\n",
    "                elif i == 2:\n",
    "                    result[i] += 1\n",
    "    \n",
    "    if max(result) == 3:\n",
    "        return True\n",
    "    else:\n",
    "        return False"
   ]
  },
  {
   "cell_type": "code",
   "execution_count": 140,
   "metadata": {
    "collapsed": false
   },
   "outputs": [
    {
     "data": {
      "text/plain": [
       "True"
      ]
     },
     "execution_count": 140,
     "metadata": {},
     "output_type": "execute_result"
    }
   ],
   "source": [
    "row_win(board,2)"
   ]
  },
  {
   "cell_type": "code",
   "execution_count": 144,
   "metadata": {
    "collapsed": false
   },
   "outputs": [
    {
     "data": {
      "text/plain": [
       "array([[1, 0, 1],\n",
       "       [1, 0, 0],\n",
       "       [2, 2, 2]])"
      ]
     },
     "execution_count": 144,
     "metadata": {},
     "output_type": "execute_result"
    }
   ],
   "source": [
    "board"
   ]
  },
  {
   "cell_type": "code",
   "execution_count": 129,
   "metadata": {
    "collapsed": false
   },
   "outputs": [
    {
     "data": {
      "text/plain": [
       "[2, 0, 1]"
      ]
     },
     "execution_count": 129,
     "metadata": {},
     "output_type": "execute_result"
    }
   ],
   "source": [
    "result"
   ]
  },
  {
   "cell_type": "markdown",
   "metadata": {},
   "source": [
    "\n",
    "    Create a similar function col_win(board, player) that takes the player (integer), and determines if any column consists of only their marker. Have it return True if this condition is met, and False otherwise.\n",
    "    board is already defined from previous exercises. Call col_win to check if Player 1 has a complete column.\n"
   ]
  },
  {
   "cell_type": "code",
   "execution_count": 265,
   "metadata": {
    "collapsed": true
   },
   "outputs": [],
   "source": [
    "\n",
    "def col_win(board, player):\n",
    "    result = [0,0,0]\n",
    "    for i in range(3):\n",
    "        for j in range(3):\n",
    "            if board[i,j] == player:\n",
    "                if j == 0:\n",
    "                    result[0] += 1\n",
    "                elif j == 1:\n",
    "                    result[1] += 1\n",
    "                elif j == 2:\n",
    "                    result[2] += 1\n",
    "    \n",
    "    if max(result) == 3:\n",
    "        return True\n",
    "    else:\n",
    "        return False"
   ]
  },
  {
   "cell_type": "code",
   "execution_count": 235,
   "metadata": {
    "collapsed": false
   },
   "outputs": [],
   "source": [
    "board = create_board()\n",
    "def play(board):\n",
    "    for i in range(3):\n",
    "        for player in [1, 2]:\n",
    "            random_place(board,player)\n",
    "\n",
    "    print(board)\n"
   ]
  },
  {
   "cell_type": "code",
   "execution_count": 161,
   "metadata": {
    "collapsed": false
   },
   "outputs": [
    {
     "data": {
      "text/plain": [
       "True"
      ]
     },
     "execution_count": 161,
     "metadata": {},
     "output_type": "execute_result"
    }
   ],
   "source": [
    "col_win(board,1)"
   ]
  },
  {
   "cell_type": "code",
   "execution_count": 160,
   "metadata": {
    "collapsed": false
   },
   "outputs": [
    {
     "data": {
      "text/plain": [
       "[1, 2, 0]"
      ]
     },
     "execution_count": 160,
     "metadata": {},
     "output_type": "execute_result"
    }
   ],
   "source": [
    "result"
   ]
  },
  {
   "cell_type": "markdown",
   "metadata": {},
   "source": [
    "\n",
    "    Finally, create a function diag_win(board, player) that tests if either diagonal of the board consists of only their marker. Have it return True if this condition is met, and False otherwise.\n",
    "    board is already defined from previous exercises. Call diag_win to check if Player 1 has a complete diagonal.\n"
   ]
  },
  {
   "cell_type": "code",
   "execution_count": 232,
   "metadata": {
    "collapsed": true
   },
   "outputs": [],
   "source": [
    "\n",
    "def diag_win(board, player):\n",
    "    result = [0,0]\n",
    "    for i in range(3):\n",
    "        for j in range(3):\n",
    "            if board[i,j] == player:\n",
    "                if j == i :\n",
    "                    result[0] += 1\n",
    "                    \n",
    "                if (j == i) and j == 1:\n",
    "                    result[1] += 1       \n",
    "                elif (j == 2 and i == 0):\n",
    "                    result[1] += 1       \n",
    "                elif (j == 0 and i == 2):\n",
    "                    result[1] += 1              \n",
    "    if max(result) == 3:\n",
    "        return True\n",
    "    else:\n",
    "        return False"
   ]
  },
  {
   "cell_type": "code",
   "execution_count": 224,
   "metadata": {
    "collapsed": false
   },
   "outputs": [
    {
     "name": "stdout",
     "output_type": "stream",
     "text": [
      "[[2 0 1]\n",
      " [0 1 2]\n",
      " [1 2 0]]\n"
     ]
    }
   ],
   "source": [
    "board = create_board()\n",
    "play(board)"
   ]
  },
  {
   "cell_type": "code",
   "execution_count": 226,
   "metadata": {
    "collapsed": false
   },
   "outputs": [
    {
     "data": {
      "text/plain": [
       "True"
      ]
     },
     "execution_count": 226,
     "metadata": {},
     "output_type": "execute_result"
    }
   ],
   "source": [
    "\n",
    "diag_win(board,1)"
   ]
  },
  {
   "cell_type": "markdown",
   "metadata": {},
   "source": [
    "\n",
    "    Create a function evaluate(board) that uses row_win, col_win, and diag_win functions for both players. If one of them has won, return that player's number. If the board is full but no one has won, return -1. Otherwise, return 0.\n",
    "    board is already defined from previous exercises. Call evaluate to see if either player has won the game yet.\n"
   ]
  },
  {
   "cell_type": "code",
   "execution_count": 258,
   "metadata": {
    "collapsed": true
   },
   "outputs": [],
   "source": [
    "def evaluate(board):\n",
    "    winner = 0\n",
    "    for player in [1, 2]:\n",
    "        # Check if `row_win`, `col_win`, or `diag_win` apply.  if so, store `player` as `winner`.\n",
    "        if row_win(board,player) or col_win(board,player) or diag_win(board,player):\n",
    "            winner = player\n",
    "    if np.all(board != 0) and winner == 0:\n",
    "        winner = -1\n",
    "    return winner"
   ]
  },
  {
   "cell_type": "code",
   "execution_count": 241,
   "metadata": {
    "collapsed": false
   },
   "outputs": [
    {
     "name": "stdout",
     "output_type": "stream",
     "text": [
      "[[0 0 2]\n",
      " [0 1 2]\n",
      " [1 1 2]]\n"
     ]
    }
   ],
   "source": []
  },
  {
   "cell_type": "code",
   "execution_count": 267,
   "metadata": {
    "collapsed": false
   },
   "outputs": [
    {
     "data": {
      "text/plain": [
       "2"
      ]
     },
     "execution_count": 267,
     "metadata": {},
     "output_type": "execute_result"
    }
   ],
   "source": [
    "evaluate(board)"
   ]
  },
  {
   "cell_type": "code",
   "execution_count": 259,
   "metadata": {
    "collapsed": false
   },
   "outputs": [],
   "source": [
    "for player in [1,2]:\n",
    "    if row_win(board,player) or col_win(board,player) or diag_win(board,player):\n",
    "            print player"
   ]
  },
  {
   "cell_type": "code",
   "execution_count": 266,
   "metadata": {
    "collapsed": false
   },
   "outputs": [
    {
     "data": {
      "text/plain": [
       "True"
      ]
     },
     "execution_count": 266,
     "metadata": {},
     "output_type": "execute_result"
    }
   ],
   "source": [
    "col_win(board,2)"
   ]
  },
  {
   "cell_type": "code",
   "execution_count": 264,
   "metadata": {
    "collapsed": false
   },
   "outputs": [
    {
     "data": {
      "text/plain": [
       "[1, 1, 1]"
      ]
     },
     "execution_count": 264,
     "metadata": {},
     "output_type": "execute_result"
    }
   ],
   "source": [
    "result"
   ]
  },
  {
   "cell_type": "markdown",
   "metadata": {},
   "source": [
    "\n",
    "    create_board(), random_place(board, player), and evaluate(board) have been created from previous exercises. Create a function play_game() that creates a board, calls alternates between two players (beginning with Player 1), and evaluates the board for a winner after every placement. Play the game until one player wins (returning 1 or 2 to reflect the winning player), or the game is a draw (returning -1).\n",
    "    Call play_game once.\n"
   ]
  },
  {
   "cell_type": "code",
   "execution_count": 278,
   "metadata": {
    "collapsed": true
   },
   "outputs": [],
   "source": [
    "\n",
    "def play_game():\n",
    "    board = create_board()\n",
    "    \n",
    "    for i in range(3):\n",
    "        for player in [1, 2]:\n",
    "            random_place(board,player)\n",
    "            #print(board)\n",
    "            if evaluate(board):\n",
    "                return evaluate(board)"
   ]
  },
  {
   "cell_type": "code",
   "execution_count": 281,
   "metadata": {
    "collapsed": false
   },
   "outputs": [
    {
     "name": "stdout",
     "output_type": "stream",
     "text": [
      "None\n"
     ]
    }
   ],
   "source": [
    "print play_game()"
   ]
  },
  {
   "cell_type": "markdown",
   "metadata": {},
   "source": [
    "\n",
    "    Use the play_game() function to play 1,000 random games, where Player 1 always goes first.\n",
    "    When doing this, import and use the time library to call the time function both before and after playing all 1,000 games in order to evaluate how long this takes per game. Print your answer.\n",
    "    The library matplotlib.pyplot has already been stored as plt. Use plt.hist and plt.show to plot a histogram of the results. Does Player 1 win more than Player 2? Does either player win more than each player draws?\n"
   ]
  },
  {
   "cell_type": "code",
   "execution_count": 291,
   "metadata": {
    "collapsed": false
   },
   "outputs": [
    {
     "name": "stdout",
     "output_type": "stream",
     "text": [
      " The game took 0.011347 \n",
      " The number of 1 win is 1, 2 win is 2 and null is 7 \n"
     ]
    },
    {
     "data": {
      "image/png": "[encoded data removed]",
      "text/plain": [
       "<matplotlib.figure.Figure at 0x7ff2524bbdd0>"
      ]
     },
     "metadata": {},
     "output_type": "display_data"
    }
   ],
   "source": [
    "import time\n",
    "import matplotlib.pyplot as plt\n",
    "%matplotlib inline\n",
    "\n",
    "\n",
    "winner = []\n",
    "\n",
    "t1 = time.clock()\n",
    "\n",
    "for i in range(10):\n",
    "    winner.append(play_game())\n",
    "\n",
    "t2 = time.clock()\n",
    "\n",
    "print(\" The game took {} \".format(t2 - t1))\n",
    "\n",
    "print (\" The number of 1 win is {}, 2 win is {} and null is {} \".format(winner.count(1),winner.count(2),winner.count(None)))\n",
    "\n",
    "winner = [0 if v is None else v for v in winner]\n",
    "\n",
    "plt.hist(winner)\n",
    "\n",
    "plt.show()\n",
    "    "
   ]
  },
  {
   "cell_type": "code",
   "execution_count": 287,
   "metadata": {
    "collapsed": false
   },
   "outputs": [
    {
     "data": {
      "text/plain": [
       "92"
      ]
     },
     "execution_count": 287,
     "metadata": {},
     "output_type": "execute_result"
    }
   ],
   "source": []
  },
  {
   "cell_type": "markdown",
   "metadata": {},
   "source": [
    "\n",
    "    This result is expected --- when guessing at random, it's better to go first. Let's see if Player 1 can improve their strategy. create_board(), random_place(board, player), and evaluate(board) have been created from previous exercises. Create a function play_strategic_game(), where Player 1 always starts with the middle square, and otherwise both players place their markers randomly.\n",
    "    Call play_strategic_game once.\n"
   ]
  },
  {
   "cell_type": "code",
   "execution_count": 292,
   "metadata": {
    "collapsed": false
   },
   "outputs": [
    {
     "data": {
      "text/plain": [
       "2"
      ]
     },
     "execution_count": 292,
     "metadata": {},
     "output_type": "execute_result"
    }
   ],
   "source": [
    "def play_strategic_game():\n",
    "    board, winner = create_board(), 0\n",
    "    board[1,1] = 1\n",
    "    while winner == 0:\n",
    "        for player in [2,1]:\n",
    "            # use `random_place` to play a game, and store as `board`.\n",
    "            random_place(board,player)\n",
    "            winner = evaluate(board)\n",
    "            # use `evaluate(board)`, and store as `winner`.\n",
    "            if winner != 0:\n",
    "                break\n",
    "    return winner\n",
    "\n",
    "play_strategic_game() "
   ]
  },
  {
   "cell_type": "markdown",
   "metadata": {},
   "source": [
    "\n",
    "    The results from Exercise 12 have been stored. Use the play_strategic_game() function to play 1,000 random games.\n",
    "    Use the time libary to evaluate how long all these games takes.\n",
    "    The library matplotlib.pyplot has already been stored as plt. Use plt.hist and plt.show to plot your results. Did Player 1's performance improve? Does either player win more than each player draws?\n"
   ]
  },
  {
   "cell_type": "code",
   "execution_count": 295,
   "metadata": {
    "collapsed": false
   },
   "outputs": [
    {
     "name": "stdout",
     "output_type": "stream",
     "text": [
      " The game took 28.758635 \n",
      " The number of 1 win is 69352, 2 win is 19120 and null is 0 \n"
     ]
    },
    {
     "data": {
      "image/png": "[encoded data removed]",
      "text/plain": [
       "<matplotlib.figure.Figure at 0x7ff24d1f46d0>"
      ]
     },
     "metadata": {},
     "output_type": "display_data"
    }
   ],
   "source": [
    "\n",
    "winner = []\n",
    "\n",
    "t1 = time.clock()\n",
    "\n",
    "for i in range(100000):\n",
    "    winner.append(play_strategic_game())\n",
    "\n",
    "t2 = time.clock()\n",
    "\n",
    "print(\" The game took {} \".format(t2 - t1))\n",
    "\n",
    "print (\" The number of 1 win is {}, 2 win is {} and null is {} \".format(winner.count(1),winner.count(2),winner.count(None)))\n",
    "\n",
    "winner = [0 if v is None else v for v in winner]\n",
    "\n",
    "plt.hist(winner)\n",
    "\n",
    "plt.show()"
   ]
  },
  {
   "cell_type": "code",
   "execution_count": null,
   "metadata": {
    "collapsed": true
   },
   "outputs": [],
   "source": []
  }
 ],
 "metadata": {
  "kernelspec": {
   "display_name": "Python 2",
   "language": "python",
   "name": "python2"
  },
  "language_info": {
   "codemirror_mode": {
    "name": "ipython",
    "version": 2
   },
   "file_extension": ".py",
   "mimetype": "text/x-python",
   "name": "python",
   "nbconvert_exporter": "python",
   "pygments_lexer": "ipython2",
   "version": "2.7.6"
  }
 },
 "nbformat": 4,
 "nbformat_minor": 1
}
